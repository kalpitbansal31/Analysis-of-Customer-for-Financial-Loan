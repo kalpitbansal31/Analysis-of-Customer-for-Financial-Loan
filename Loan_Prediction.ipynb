{
  "cells": [
    {
      "cell_type": "markdown",
      "metadata": {
        "id": "view-in-github",
        "colab_type": "text"
      },
      "source": [
        "<a href=\"https://colab.research.google.com/github/kalpitbansal31/Analysis-of-Customer-for-Financial-Loan/blob/main/Loan_Prediction.ipynb\" target=\"_parent\"><img src=\"https://colab.research.google.com/assets/colab-badge.svg\" alt=\"Open In Colab\"/></a>"
      ]
    },
    {
      "cell_type": "markdown",
      "metadata": {
        "id": "jNFfltD05Kwm"
      },
      "source": [
        "# **Loan status prediction**"
      ]
    },
    {
      "cell_type": "code",
      "execution_count": null,
      "metadata": {
        "id": "OeBr_AFThSap"
      },
      "outputs": [],
      "source": [
        "import pandas as pd\n",
        "import numpy as np\n",
        "import matplotlib.pyplot as plt\n",
        "import seaborn as sns\n",
        "from sklearn.model_selection import train_test_split\n",
        "from sklearn.metrics import accuracy_score\n",
        "from sklearn.metrics import confusion_matrix"
      ]
    },
    {
      "cell_type": "markdown",
      "metadata": {
        "id": "YDgHDBvD5JV3"
      },
      "source": [
        "**Loading the dataset**"
      ]
    },
    {
      "cell_type": "code",
      "execution_count": null,
      "metadata": {
        "id": "nmR55BCTiI1b"
      },
      "outputs": [],
      "source": [
        "dataset=pd.read_csv(\"Loan_Prediction.csv\")"
      ]
    },
    {
      "cell_type": "markdown",
      "metadata": {
        "id": "kb4DuQYA5z8U"
      },
      "source": [
        "**Printing the first 5 rows of the dataframe**"
      ]
    },
    {
      "cell_type": "code",
      "execution_count": null,
      "metadata": {
        "colab": {
          "base_uri": "https://localhost:8080/",
          "height": 287
        },
        "id": "XFVBtQwDmrJ_",
        "outputId": "7c55d371-39a8-4989-cc82-7dab3ee04dcb"
      },
      "outputs": [
        {
          "output_type": "execute_result",
          "data": {
            "text/plain": [
              "    Loan_ID Gender Married Dependents     Education Self_Employed  \\\n",
              "0  LP001002   Male      No          0      Graduate            No   \n",
              "1  LP001003   Male     Yes          1      Graduate            No   \n",
              "2  LP001005   Male     Yes          0      Graduate           Yes   \n",
              "3  LP001006   Male     Yes          0  Not Graduate            No   \n",
              "4  LP001008   Male      No          0      Graduate            No   \n",
              "\n",
              "   ApplicantIncome  CoapplicantIncome  LoanAmount  Loan_Amount_Term  \\\n",
              "0             5849                0.0         NaN             360.0   \n",
              "1             4583             1508.0       128.0             360.0   \n",
              "2             3000                0.0        66.0             360.0   \n",
              "3             2583             2358.0       120.0             360.0   \n",
              "4             6000                0.0       141.0             360.0   \n",
              "\n",
              "   Credit_History Property_Area Loan_Status  \n",
              "0             1.0         Urban           Y  \n",
              "1             1.0         Rural           N  \n",
              "2             1.0         Urban           Y  \n",
              "3             1.0         Urban           Y  \n",
              "4             1.0         Urban           Y  "
            ],
            "text/html": [
              "\n",
              "  <div id=\"df-1bb533ec-f46f-4677-a65b-a6d2c8ba5776\">\n",
              "    <div class=\"colab-df-container\">\n",
              "      <div>\n",
              "<style scoped>\n",
              "    .dataframe tbody tr th:only-of-type {\n",
              "        vertical-align: middle;\n",
              "    }\n",
              "\n",
              "    .dataframe tbody tr th {\n",
              "        vertical-align: top;\n",
              "    }\n",
              "\n",
              "    .dataframe thead th {\n",
              "        text-align: right;\n",
              "    }\n",
              "</style>\n",
              "<table border=\"1\" class=\"dataframe\">\n",
              "  <thead>\n",
              "    <tr style=\"text-align: right;\">\n",
              "      <th></th>\n",
              "      <th>Loan_ID</th>\n",
              "      <th>Gender</th>\n",
              "      <th>Married</th>\n",
              "      <th>Dependents</th>\n",
              "      <th>Education</th>\n",
              "      <th>Self_Employed</th>\n",
              "      <th>ApplicantIncome</th>\n",
              "      <th>CoapplicantIncome</th>\n",
              "      <th>LoanAmount</th>\n",
              "      <th>Loan_Amount_Term</th>\n",
              "      <th>Credit_History</th>\n",
              "      <th>Property_Area</th>\n",
              "      <th>Loan_Status</th>\n",
              "    </tr>\n",
              "  </thead>\n",
              "  <tbody>\n",
              "    <tr>\n",
              "      <th>0</th>\n",
              "      <td>LP001002</td>\n",
              "      <td>Male</td>\n",
              "      <td>No</td>\n",
              "      <td>0</td>\n",
              "      <td>Graduate</td>\n",
              "      <td>No</td>\n",
              "      <td>5849</td>\n",
              "      <td>0.0</td>\n",
              "      <td>NaN</td>\n",
              "      <td>360.0</td>\n",
              "      <td>1.0</td>\n",
              "      <td>Urban</td>\n",
              "      <td>Y</td>\n",
              "    </tr>\n",
              "    <tr>\n",
              "      <th>1</th>\n",
              "      <td>LP001003</td>\n",
              "      <td>Male</td>\n",
              "      <td>Yes</td>\n",
              "      <td>1</td>\n",
              "      <td>Graduate</td>\n",
              "      <td>No</td>\n",
              "      <td>4583</td>\n",
              "      <td>1508.0</td>\n",
              "      <td>128.0</td>\n",
              "      <td>360.0</td>\n",
              "      <td>1.0</td>\n",
              "      <td>Rural</td>\n",
              "      <td>N</td>\n",
              "    </tr>\n",
              "    <tr>\n",
              "      <th>2</th>\n",
              "      <td>LP001005</td>\n",
              "      <td>Male</td>\n",
              "      <td>Yes</td>\n",
              "      <td>0</td>\n",
              "      <td>Graduate</td>\n",
              "      <td>Yes</td>\n",
              "      <td>3000</td>\n",
              "      <td>0.0</td>\n",
              "      <td>66.0</td>\n",
              "      <td>360.0</td>\n",
              "      <td>1.0</td>\n",
              "      <td>Urban</td>\n",
              "      <td>Y</td>\n",
              "    </tr>\n",
              "    <tr>\n",
              "      <th>3</th>\n",
              "      <td>LP001006</td>\n",
              "      <td>Male</td>\n",
              "      <td>Yes</td>\n",
              "      <td>0</td>\n",
              "      <td>Not Graduate</td>\n",
              "      <td>No</td>\n",
              "      <td>2583</td>\n",
              "      <td>2358.0</td>\n",
              "      <td>120.0</td>\n",
              "      <td>360.0</td>\n",
              "      <td>1.0</td>\n",
              "      <td>Urban</td>\n",
              "      <td>Y</td>\n",
              "    </tr>\n",
              "    <tr>\n",
              "      <th>4</th>\n",
              "      <td>LP001008</td>\n",
              "      <td>Male</td>\n",
              "      <td>No</td>\n",
              "      <td>0</td>\n",
              "      <td>Graduate</td>\n",
              "      <td>No</td>\n",
              "      <td>6000</td>\n",
              "      <td>0.0</td>\n",
              "      <td>141.0</td>\n",
              "      <td>360.0</td>\n",
              "      <td>1.0</td>\n",
              "      <td>Urban</td>\n",
              "      <td>Y</td>\n",
              "    </tr>\n",
              "  </tbody>\n",
              "</table>\n",
              "</div>\n",
              "      <button class=\"colab-df-convert\" onclick=\"convertToInteractive('df-1bb533ec-f46f-4677-a65b-a6d2c8ba5776')\"\n",
              "              title=\"Convert this dataframe to an interactive table.\"\n",
              "              style=\"display:none;\">\n",
              "        \n",
              "  <svg xmlns=\"http://www.w3.org/2000/svg\" height=\"24px\"viewBox=\"0 0 24 24\"\n",
              "       width=\"24px\">\n",
              "    <path d=\"M0 0h24v24H0V0z\" fill=\"none\"/>\n",
              "    <path d=\"M18.56 5.44l.94 2.06.94-2.06 2.06-.94-2.06-.94-.94-2.06-.94 2.06-2.06.94zm-11 1L8.5 8.5l.94-2.06 2.06-.94-2.06-.94L8.5 2.5l-.94 2.06-2.06.94zm10 10l.94 2.06.94-2.06 2.06-.94-2.06-.94-.94-2.06-.94 2.06-2.06.94z\"/><path d=\"M17.41 7.96l-1.37-1.37c-.4-.4-.92-.59-1.43-.59-.52 0-1.04.2-1.43.59L10.3 9.45l-7.72 7.72c-.78.78-.78 2.05 0 2.83L4 21.41c.39.39.9.59 1.41.59.51 0 1.02-.2 1.41-.59l7.78-7.78 2.81-2.81c.8-.78.8-2.07 0-2.86zM5.41 20L4 18.59l7.72-7.72 1.47 1.35L5.41 20z\"/>\n",
              "  </svg>\n",
              "      </button>\n",
              "      \n",
              "  <style>\n",
              "    .colab-df-container {\n",
              "      display:flex;\n",
              "      flex-wrap:wrap;\n",
              "      gap: 12px;\n",
              "    }\n",
              "\n",
              "    .colab-df-convert {\n",
              "      background-color: #E8F0FE;\n",
              "      border: none;\n",
              "      border-radius: 50%;\n",
              "      cursor: pointer;\n",
              "      display: none;\n",
              "      fill: #1967D2;\n",
              "      height: 32px;\n",
              "      padding: 0 0 0 0;\n",
              "      width: 32px;\n",
              "    }\n",
              "\n",
              "    .colab-df-convert:hover {\n",
              "      background-color: #E2EBFA;\n",
              "      box-shadow: 0px 1px 2px rgba(60, 64, 67, 0.3), 0px 1px 3px 1px rgba(60, 64, 67, 0.15);\n",
              "      fill: #174EA6;\n",
              "    }\n",
              "\n",
              "    [theme=dark] .colab-df-convert {\n",
              "      background-color: #3B4455;\n",
              "      fill: #D2E3FC;\n",
              "    }\n",
              "\n",
              "    [theme=dark] .colab-df-convert:hover {\n",
              "      background-color: #434B5C;\n",
              "      box-shadow: 0px 1px 3px 1px rgba(0, 0, 0, 0.15);\n",
              "      filter: drop-shadow(0px 1px 2px rgba(0, 0, 0, 0.3));\n",
              "      fill: #FFFFFF;\n",
              "    }\n",
              "  </style>\n",
              "\n",
              "      <script>\n",
              "        const buttonEl =\n",
              "          document.querySelector('#df-1bb533ec-f46f-4677-a65b-a6d2c8ba5776 button.colab-df-convert');\n",
              "        buttonEl.style.display =\n",
              "          google.colab.kernel.accessAllowed ? 'block' : 'none';\n",
              "\n",
              "        async function convertToInteractive(key) {\n",
              "          const element = document.querySelector('#df-1bb533ec-f46f-4677-a65b-a6d2c8ba5776');\n",
              "          const dataTable =\n",
              "            await google.colab.kernel.invokeFunction('convertToInteractive',\n",
              "                                                     [key], {});\n",
              "          if (!dataTable) return;\n",
              "\n",
              "          const docLinkHtml = 'Like what you see? Visit the ' +\n",
              "            '<a target=\"_blank\" href=https://colab.research.google.com/notebooks/data_table.ipynb>data table notebook</a>'\n",
              "            + ' to learn more about interactive tables.';\n",
              "          element.innerHTML = '';\n",
              "          dataTable['output_type'] = 'display_data';\n",
              "          await google.colab.output.renderOutput(dataTable, element);\n",
              "          const docLink = document.createElement('div');\n",
              "          docLink.innerHTML = docLinkHtml;\n",
              "          element.appendChild(docLink);\n",
              "        }\n",
              "      </script>\n",
              "    </div>\n",
              "  </div>\n",
              "  "
            ]
          },
          "metadata": {},
          "execution_count": 3
        }
      ],
      "source": [
        " dataset.head()"
      ]
    },
    {
      "cell_type": "code",
      "source": [
        "dataset.dtypes"
      ],
      "metadata": {
        "colab": {
          "base_uri": "https://localhost:8080/"
        },
        "id": "4N7StI00QJRI",
        "outputId": "fea1e327-c6cf-4708-a134-b52f2c00fe09"
      },
      "execution_count": null,
      "outputs": [
        {
          "output_type": "execute_result",
          "data": {
            "text/plain": [
              "Loan_ID               object\n",
              "Gender                object\n",
              "Married               object\n",
              "Dependents            object\n",
              "Education             object\n",
              "Self_Employed         object\n",
              "ApplicantIncome        int64\n",
              "CoapplicantIncome    float64\n",
              "LoanAmount           float64\n",
              "Loan_Amount_Term     float64\n",
              "Credit_History       float64\n",
              "Property_Area         object\n",
              "Loan_Status           object\n",
              "dtype: object"
            ]
          },
          "metadata": {},
          "execution_count": 4
        }
      ]
    },
    {
      "cell_type": "markdown",
      "metadata": {
        "id": "-zxDPYcv5-jj"
      },
      "source": [
        "**Tells the number of rows and columns**"
      ]
    },
    {
      "cell_type": "code",
      "execution_count": null,
      "metadata": {
        "colab": {
          "base_uri": "https://localhost:8080/"
        },
        "id": "GJbPBHS7mx3B",
        "outputId": "214a0628-3631-4aef-8b51-e01742150dde"
      },
      "outputs": [
        {
          "output_type": "execute_result",
          "data": {
            "text/plain": [
              "(614, 13)"
            ]
          },
          "metadata": {},
          "execution_count": 5
        }
      ],
      "source": [
        "dataset.shape"
      ]
    },
    {
      "cell_type": "code",
      "execution_count": null,
      "metadata": {
        "colab": {
          "base_uri": "https://localhost:8080/"
        },
        "id": "k_xUWgUbmukF",
        "outputId": "bdfdb0bb-172c-4844-f7b6-5678e8457c0a"
      },
      "outputs": [
        {
          "output_type": "stream",
          "name": "stdout",
          "text": [
            "<class 'pandas.core.frame.DataFrame'>\n",
            "RangeIndex: 614 entries, 0 to 613\n",
            "Data columns (total 13 columns):\n",
            " #   Column             Non-Null Count  Dtype  \n",
            "---  ------             --------------  -----  \n",
            " 0   Loan_ID            614 non-null    object \n",
            " 1   Gender             601 non-null    object \n",
            " 2   Married            611 non-null    object \n",
            " 3   Dependents         599 non-null    object \n",
            " 4   Education          614 non-null    object \n",
            " 5   Self_Employed      582 non-null    object \n",
            " 6   ApplicantIncome    614 non-null    int64  \n",
            " 7   CoapplicantIncome  614 non-null    float64\n",
            " 8   LoanAmount         592 non-null    float64\n",
            " 9   Loan_Amount_Term   600 non-null    float64\n",
            " 10  Credit_History     564 non-null    float64\n",
            " 11  Property_Area      614 non-null    object \n",
            " 12  Loan_Status        614 non-null    object \n",
            "dtypes: float64(4), int64(1), object(8)\n",
            "memory usage: 62.5+ KB\n"
          ]
        }
      ],
      "source": [
        "dataset.info()"
      ]
    },
    {
      "cell_type": "markdown",
      "metadata": {
        "id": "B_Jf1SQ_6R-w"
      },
      "source": [
        "**Tells about the statistical data of the numerical columns**"
      ]
    },
    {
      "cell_type": "code",
      "execution_count": null,
      "metadata": {
        "colab": {
          "base_uri": "https://localhost:8080/",
          "height": 300
        },
        "id": "wfnzBIaXmyaN",
        "outputId": "32247bbc-b31c-403a-8212-0de9fa684bf9"
      },
      "outputs": [
        {
          "output_type": "execute_result",
          "data": {
            "text/plain": [
              "       ApplicantIncome  CoapplicantIncome  LoanAmount  Loan_Amount_Term  \\\n",
              "count       614.000000         614.000000  592.000000         600.00000   \n",
              "mean       5403.459283        1621.245798  146.412162         342.00000   \n",
              "std        6109.041673        2926.248369   85.587325          65.12041   \n",
              "min         150.000000           0.000000    9.000000          12.00000   \n",
              "25%        2877.500000           0.000000  100.000000         360.00000   \n",
              "50%        3812.500000        1188.500000  128.000000         360.00000   \n",
              "75%        5795.000000        2297.250000  168.000000         360.00000   \n",
              "max       81000.000000       41667.000000  700.000000         480.00000   \n",
              "\n",
              "       Credit_History  \n",
              "count      564.000000  \n",
              "mean         0.842199  \n",
              "std          0.364878  \n",
              "min          0.000000  \n",
              "25%          1.000000  \n",
              "50%          1.000000  \n",
              "75%          1.000000  \n",
              "max          1.000000  "
            ],
            "text/html": [
              "\n",
              "  <div id=\"df-6d548b75-1626-4f91-ac20-f2fefc3f69f3\">\n",
              "    <div class=\"colab-df-container\">\n",
              "      <div>\n",
              "<style scoped>\n",
              "    .dataframe tbody tr th:only-of-type {\n",
              "        vertical-align: middle;\n",
              "    }\n",
              "\n",
              "    .dataframe tbody tr th {\n",
              "        vertical-align: top;\n",
              "    }\n",
              "\n",
              "    .dataframe thead th {\n",
              "        text-align: right;\n",
              "    }\n",
              "</style>\n",
              "<table border=\"1\" class=\"dataframe\">\n",
              "  <thead>\n",
              "    <tr style=\"text-align: right;\">\n",
              "      <th></th>\n",
              "      <th>ApplicantIncome</th>\n",
              "      <th>CoapplicantIncome</th>\n",
              "      <th>LoanAmount</th>\n",
              "      <th>Loan_Amount_Term</th>\n",
              "      <th>Credit_History</th>\n",
              "    </tr>\n",
              "  </thead>\n",
              "  <tbody>\n",
              "    <tr>\n",
              "      <th>count</th>\n",
              "      <td>614.000000</td>\n",
              "      <td>614.000000</td>\n",
              "      <td>592.000000</td>\n",
              "      <td>600.00000</td>\n",
              "      <td>564.000000</td>\n",
              "    </tr>\n",
              "    <tr>\n",
              "      <th>mean</th>\n",
              "      <td>5403.459283</td>\n",
              "      <td>1621.245798</td>\n",
              "      <td>146.412162</td>\n",
              "      <td>342.00000</td>\n",
              "      <td>0.842199</td>\n",
              "    </tr>\n",
              "    <tr>\n",
              "      <th>std</th>\n",
              "      <td>6109.041673</td>\n",
              "      <td>2926.248369</td>\n",
              "      <td>85.587325</td>\n",
              "      <td>65.12041</td>\n",
              "      <td>0.364878</td>\n",
              "    </tr>\n",
              "    <tr>\n",
              "      <th>min</th>\n",
              "      <td>150.000000</td>\n",
              "      <td>0.000000</td>\n",
              "      <td>9.000000</td>\n",
              "      <td>12.00000</td>\n",
              "      <td>0.000000</td>\n",
              "    </tr>\n",
              "    <tr>\n",
              "      <th>25%</th>\n",
              "      <td>2877.500000</td>\n",
              "      <td>0.000000</td>\n",
              "      <td>100.000000</td>\n",
              "      <td>360.00000</td>\n",
              "      <td>1.000000</td>\n",
              "    </tr>\n",
              "    <tr>\n",
              "      <th>50%</th>\n",
              "      <td>3812.500000</td>\n",
              "      <td>1188.500000</td>\n",
              "      <td>128.000000</td>\n",
              "      <td>360.00000</td>\n",
              "      <td>1.000000</td>\n",
              "    </tr>\n",
              "    <tr>\n",
              "      <th>75%</th>\n",
              "      <td>5795.000000</td>\n",
              "      <td>2297.250000</td>\n",
              "      <td>168.000000</td>\n",
              "      <td>360.00000</td>\n",
              "      <td>1.000000</td>\n",
              "    </tr>\n",
              "    <tr>\n",
              "      <th>max</th>\n",
              "      <td>81000.000000</td>\n",
              "      <td>41667.000000</td>\n",
              "      <td>700.000000</td>\n",
              "      <td>480.00000</td>\n",
              "      <td>1.000000</td>\n",
              "    </tr>\n",
              "  </tbody>\n",
              "</table>\n",
              "</div>\n",
              "      <button class=\"colab-df-convert\" onclick=\"convertToInteractive('df-6d548b75-1626-4f91-ac20-f2fefc3f69f3')\"\n",
              "              title=\"Convert this dataframe to an interactive table.\"\n",
              "              style=\"display:none;\">\n",
              "        \n",
              "  <svg xmlns=\"http://www.w3.org/2000/svg\" height=\"24px\"viewBox=\"0 0 24 24\"\n",
              "       width=\"24px\">\n",
              "    <path d=\"M0 0h24v24H0V0z\" fill=\"none\"/>\n",
              "    <path d=\"M18.56 5.44l.94 2.06.94-2.06 2.06-.94-2.06-.94-.94-2.06-.94 2.06-2.06.94zm-11 1L8.5 8.5l.94-2.06 2.06-.94-2.06-.94L8.5 2.5l-.94 2.06-2.06.94zm10 10l.94 2.06.94-2.06 2.06-.94-2.06-.94-.94-2.06-.94 2.06-2.06.94z\"/><path d=\"M17.41 7.96l-1.37-1.37c-.4-.4-.92-.59-1.43-.59-.52 0-1.04.2-1.43.59L10.3 9.45l-7.72 7.72c-.78.78-.78 2.05 0 2.83L4 21.41c.39.39.9.59 1.41.59.51 0 1.02-.2 1.41-.59l7.78-7.78 2.81-2.81c.8-.78.8-2.07 0-2.86zM5.41 20L4 18.59l7.72-7.72 1.47 1.35L5.41 20z\"/>\n",
              "  </svg>\n",
              "      </button>\n",
              "      \n",
              "  <style>\n",
              "    .colab-df-container {\n",
              "      display:flex;\n",
              "      flex-wrap:wrap;\n",
              "      gap: 12px;\n",
              "    }\n",
              "\n",
              "    .colab-df-convert {\n",
              "      background-color: #E8F0FE;\n",
              "      border: none;\n",
              "      border-radius: 50%;\n",
              "      cursor: pointer;\n",
              "      display: none;\n",
              "      fill: #1967D2;\n",
              "      height: 32px;\n",
              "      padding: 0 0 0 0;\n",
              "      width: 32px;\n",
              "    }\n",
              "\n",
              "    .colab-df-convert:hover {\n",
              "      background-color: #E2EBFA;\n",
              "      box-shadow: 0px 1px 2px rgba(60, 64, 67, 0.3), 0px 1px 3px 1px rgba(60, 64, 67, 0.15);\n",
              "      fill: #174EA6;\n",
              "    }\n",
              "\n",
              "    [theme=dark] .colab-df-convert {\n",
              "      background-color: #3B4455;\n",
              "      fill: #D2E3FC;\n",
              "    }\n",
              "\n",
              "    [theme=dark] .colab-df-convert:hover {\n",
              "      background-color: #434B5C;\n",
              "      box-shadow: 0px 1px 3px 1px rgba(0, 0, 0, 0.15);\n",
              "      filter: drop-shadow(0px 1px 2px rgba(0, 0, 0, 0.3));\n",
              "      fill: #FFFFFF;\n",
              "    }\n",
              "  </style>\n",
              "\n",
              "      <script>\n",
              "        const buttonEl =\n",
              "          document.querySelector('#df-6d548b75-1626-4f91-ac20-f2fefc3f69f3 button.colab-df-convert');\n",
              "        buttonEl.style.display =\n",
              "          google.colab.kernel.accessAllowed ? 'block' : 'none';\n",
              "\n",
              "        async function convertToInteractive(key) {\n",
              "          const element = document.querySelector('#df-6d548b75-1626-4f91-ac20-f2fefc3f69f3');\n",
              "          const dataTable =\n",
              "            await google.colab.kernel.invokeFunction('convertToInteractive',\n",
              "                                                     [key], {});\n",
              "          if (!dataTable) return;\n",
              "\n",
              "          const docLinkHtml = 'Like what you see? Visit the ' +\n",
              "            '<a target=\"_blank\" href=https://colab.research.google.com/notebooks/data_table.ipynb>data table notebook</a>'\n",
              "            + ' to learn more about interactive tables.';\n",
              "          element.innerHTML = '';\n",
              "          dataTable['output_type'] = 'display_data';\n",
              "          await google.colab.output.renderOutput(dataTable, element);\n",
              "          const docLink = document.createElement('div');\n",
              "          docLink.innerHTML = docLinkHtml;\n",
              "          element.appendChild(docLink);\n",
              "        }\n",
              "      </script>\n",
              "    </div>\n",
              "  </div>\n",
              "  "
            ]
          },
          "metadata": {},
          "execution_count": 7
        }
      ],
      "source": [
        "dataset.describe()"
      ]
    },
    {
      "cell_type": "markdown",
      "metadata": {
        "id": "RnljATbt6eZB"
      },
      "source": [
        "\n",
        "\n",
        "```\n",
        "# This is formatted as code\n",
        "```\n",
        "\n",
        "**Checking Null Values In Dataset**"
      ]
    },
    {
      "cell_type": "code",
      "execution_count": null,
      "metadata": {
        "colab": {
          "base_uri": "https://localhost:8080/"
        },
        "id": "zvUBcSg3B58t",
        "outputId": "d81fadf3-ac73-47a4-d083-a35a780828c3"
      },
      "outputs": [
        {
          "output_type": "execute_result",
          "data": {
            "text/plain": [
              "Loan_ID               0\n",
              "Gender               13\n",
              "Married               3\n",
              "Dependents           15\n",
              "Education             0\n",
              "Self_Employed        32\n",
              "ApplicantIncome       0\n",
              "CoapplicantIncome     0\n",
              "LoanAmount           22\n",
              "Loan_Amount_Term     14\n",
              "Credit_History       50\n",
              "Property_Area         0\n",
              "Loan_Status           0\n",
              "dtype: int64"
            ]
          },
          "metadata": {},
          "execution_count": 8
        }
      ],
      "source": [
        "dataset.isnull().sum()"
      ]
    },
    {
      "cell_type": "markdown",
      "metadata": {
        "id": "zyK6kGWe7H5a"
      },
      "source": [
        "**Handling the missing values by filling them**"
      ]
    },
    {
      "cell_type": "code",
      "execution_count": null,
      "metadata": {
        "id": "8rIrdVEFpskj"
      },
      "outputs": [],
      "source": [
        "\n",
        "dataset['Gender'].fillna(dataset['Gender'].mode()[0],inplace=True)\n",
        "dataset['Married'].fillna(dataset['Married'].mode()[0],inplace=True)\n",
        "dataset['Dependents'].fillna(dataset['Dependents'].mode()[0],inplace=True)\n",
        "dataset['Self_Employed'].fillna(dataset['Self_Employed'].mode()[0],inplace=True)\n",
        "dataset.LoanAmount = dataset.LoanAmount.fillna(dataset.LoanAmount.mean())\n",
        "dataset['Loan_Amount_Term'].fillna(dataset['Loan_Amount_Term'].mode()[0],inplace=True)\n",
        "dataset['Credit_History'].fillna(dataset['Credit_History'].mode()[0],inplace=True)"
      ]
    },
    {
      "cell_type": "markdown",
      "metadata": {
        "id": "PhSV4hrE7igj"
      },
      "source": [
        "**Checking for Null Values after Handling them**"
      ]
    },
    {
      "cell_type": "code",
      "execution_count": null,
      "metadata": {
        "colab": {
          "base_uri": "https://localhost:8080/"
        },
        "id": "QtNUHxWmv8Ce",
        "outputId": "ee843ba7-4f1b-4589-beba-62b0fd0f8915"
      },
      "outputs": [
        {
          "output_type": "execute_result",
          "data": {
            "text/plain": [
              "Loan_ID              0\n",
              "Gender               0\n",
              "Married              0\n",
              "Dependents           0\n",
              "Education            0\n",
              "Self_Employed        0\n",
              "ApplicantIncome      0\n",
              "CoapplicantIncome    0\n",
              "LoanAmount           0\n",
              "Loan_Amount_Term     0\n",
              "Credit_History       0\n",
              "Property_Area        0\n",
              "Loan_Status          0\n",
              "dtype: int64"
            ]
          },
          "metadata": {},
          "execution_count": 10
        }
      ],
      "source": [
        "dataset.isnull().sum()"
      ]
    },
    {
      "cell_type": "markdown",
      "metadata": {
        "id": "OOqUUPYj7NxP"
      },
      "source": [
        "**Type of dataset**"
      ]
    },
    {
      "cell_type": "code",
      "execution_count": null,
      "metadata": {
        "colab": {
          "base_uri": "https://localhost:8080/"
        },
        "id": "xsptp2GjpNDl",
        "outputId": "af3fbec5-de16-45a6-ce6d-a5443b87fef6"
      },
      "outputs": [
        {
          "output_type": "execute_result",
          "data": {
            "text/plain": [
              "pandas.core.frame.DataFrame"
            ]
          },
          "metadata": {},
          "execution_count": 11
        }
      ],
      "source": [
        "type(dataset)"
      ]
    },
    {
      "cell_type": "markdown",
      "metadata": {
        "id": "mjaWTBos755f"
      },
      "source": [
        "**Tells how credit history affect other applicants**"
      ]
    },
    {
      "cell_type": "code",
      "execution_count": null,
      "metadata": {
        "colab": {
          "base_uri": "https://localhost:8080/",
          "height": 175
        },
        "id": "jOqmoo9VFVWp",
        "outputId": "73bdee37-457d-4fed-90f5-fe039fa68eb3"
      },
      "outputs": [
        {
          "output_type": "execute_result",
          "data": {
            "text/plain": [
              "Loan_Status       N    Y  All\n",
              "Credit_History               \n",
              "0.0              82    7   89\n",
              "1.0             110  415  525\n",
              "All             192  422  614"
            ],
            "text/html": [
              "\n",
              "  <div id=\"df-a52e33d4-8455-4809-a063-a4dcde99f66b\">\n",
              "    <div class=\"colab-df-container\">\n",
              "      <div>\n",
              "<style scoped>\n",
              "    .dataframe tbody tr th:only-of-type {\n",
              "        vertical-align: middle;\n",
              "    }\n",
              "\n",
              "    .dataframe tbody tr th {\n",
              "        vertical-align: top;\n",
              "    }\n",
              "\n",
              "    .dataframe thead th {\n",
              "        text-align: right;\n",
              "    }\n",
              "</style>\n",
              "<table border=\"1\" class=\"dataframe\">\n",
              "  <thead>\n",
              "    <tr style=\"text-align: right;\">\n",
              "      <th>Loan_Status</th>\n",
              "      <th>N</th>\n",
              "      <th>Y</th>\n",
              "      <th>All</th>\n",
              "    </tr>\n",
              "    <tr>\n",
              "      <th>Credit_History</th>\n",
              "      <th></th>\n",
              "      <th></th>\n",
              "      <th></th>\n",
              "    </tr>\n",
              "  </thead>\n",
              "  <tbody>\n",
              "    <tr>\n",
              "      <th>0.0</th>\n",
              "      <td>82</td>\n",
              "      <td>7</td>\n",
              "      <td>89</td>\n",
              "    </tr>\n",
              "    <tr>\n",
              "      <th>1.0</th>\n",
              "      <td>110</td>\n",
              "      <td>415</td>\n",
              "      <td>525</td>\n",
              "    </tr>\n",
              "    <tr>\n",
              "      <th>All</th>\n",
              "      <td>192</td>\n",
              "      <td>422</td>\n",
              "      <td>614</td>\n",
              "    </tr>\n",
              "  </tbody>\n",
              "</table>\n",
              "</div>\n",
              "      <button class=\"colab-df-convert\" onclick=\"convertToInteractive('df-a52e33d4-8455-4809-a063-a4dcde99f66b')\"\n",
              "              title=\"Convert this dataframe to an interactive table.\"\n",
              "              style=\"display:none;\">\n",
              "        \n",
              "  <svg xmlns=\"http://www.w3.org/2000/svg\" height=\"24px\"viewBox=\"0 0 24 24\"\n",
              "       width=\"24px\">\n",
              "    <path d=\"M0 0h24v24H0V0z\" fill=\"none\"/>\n",
              "    <path d=\"M18.56 5.44l.94 2.06.94-2.06 2.06-.94-2.06-.94-.94-2.06-.94 2.06-2.06.94zm-11 1L8.5 8.5l.94-2.06 2.06-.94-2.06-.94L8.5 2.5l-.94 2.06-2.06.94zm10 10l.94 2.06.94-2.06 2.06-.94-2.06-.94-.94-2.06-.94 2.06-2.06.94z\"/><path d=\"M17.41 7.96l-1.37-1.37c-.4-.4-.92-.59-1.43-.59-.52 0-1.04.2-1.43.59L10.3 9.45l-7.72 7.72c-.78.78-.78 2.05 0 2.83L4 21.41c.39.39.9.59 1.41.59.51 0 1.02-.2 1.41-.59l7.78-7.78 2.81-2.81c.8-.78.8-2.07 0-2.86zM5.41 20L4 18.59l7.72-7.72 1.47 1.35L5.41 20z\"/>\n",
              "  </svg>\n",
              "      </button>\n",
              "      \n",
              "  <style>\n",
              "    .colab-df-container {\n",
              "      display:flex;\n",
              "      flex-wrap:wrap;\n",
              "      gap: 12px;\n",
              "    }\n",
              "\n",
              "    .colab-df-convert {\n",
              "      background-color: #E8F0FE;\n",
              "      border: none;\n",
              "      border-radius: 50%;\n",
              "      cursor: pointer;\n",
              "      display: none;\n",
              "      fill: #1967D2;\n",
              "      height: 32px;\n",
              "      padding: 0 0 0 0;\n",
              "      width: 32px;\n",
              "    }\n",
              "\n",
              "    .colab-df-convert:hover {\n",
              "      background-color: #E2EBFA;\n",
              "      box-shadow: 0px 1px 2px rgba(60, 64, 67, 0.3), 0px 1px 3px 1px rgba(60, 64, 67, 0.15);\n",
              "      fill: #174EA6;\n",
              "    }\n",
              "\n",
              "    [theme=dark] .colab-df-convert {\n",
              "      background-color: #3B4455;\n",
              "      fill: #D2E3FC;\n",
              "    }\n",
              "\n",
              "    [theme=dark] .colab-df-convert:hover {\n",
              "      background-color: #434B5C;\n",
              "      box-shadow: 0px 1px 3px 1px rgba(0, 0, 0, 0.15);\n",
              "      filter: drop-shadow(0px 1px 2px rgba(0, 0, 0, 0.3));\n",
              "      fill: #FFFFFF;\n",
              "    }\n",
              "  </style>\n",
              "\n",
              "      <script>\n",
              "        const buttonEl =\n",
              "          document.querySelector('#df-a52e33d4-8455-4809-a063-a4dcde99f66b button.colab-df-convert');\n",
              "        buttonEl.style.display =\n",
              "          google.colab.kernel.accessAllowed ? 'block' : 'none';\n",
              "\n",
              "        async function convertToInteractive(key) {\n",
              "          const element = document.querySelector('#df-a52e33d4-8455-4809-a063-a4dcde99f66b');\n",
              "          const dataTable =\n",
              "            await google.colab.kernel.invokeFunction('convertToInteractive',\n",
              "                                                     [key], {});\n",
              "          if (!dataTable) return;\n",
              "\n",
              "          const docLinkHtml = 'Like what you see? Visit the ' +\n",
              "            '<a target=\"_blank\" href=https://colab.research.google.com/notebooks/data_table.ipynb>data table notebook</a>'\n",
              "            + ' to learn more about interactive tables.';\n",
              "          element.innerHTML = '';\n",
              "          dataTable['output_type'] = 'display_data';\n",
              "          await google.colab.output.renderOutput(dataTable, element);\n",
              "          const docLink = document.createElement('div');\n",
              "          docLink.innerHTML = docLinkHtml;\n",
              "          element.appendChild(docLink);\n",
              "        }\n",
              "      </script>\n",
              "    </div>\n",
              "  </div>\n",
              "  "
            ]
          },
          "metadata": {},
          "execution_count": 12
        }
      ],
      "source": [
        "pd.crosstab(dataset['Credit_History'],dataset['Loan_Status'],margins=True)"
      ]
    },
    {
      "cell_type": "code",
      "execution_count": null,
      "metadata": {
        "colab": {
          "base_uri": "https://localhost:8080/",
          "height": 283
        },
        "id": "ERW1wPiRjZPS",
        "outputId": "623761a9-8327-4e57-8642-b94082f3fc84"
      },
      "outputs": [
        {
          "output_type": "execute_result",
          "data": {
            "text/plain": [
              "<matplotlib.axes._subplots.AxesSubplot at 0x7fc9c8ab78d0>"
            ]
          },
          "metadata": {},
          "execution_count": 13
        },
        {
          "output_type": "display_data",
          "data": {
            "text/plain": [
              "<Figure size 432x288 with 1 Axes>"
            ],
            "image/png": "[encoded data removed]"
          },
          "metadata": {
            "needs_background": "light"
          }
        }
      ],
      "source": [
        "dataset.boxplot(column='ApplicantIncome')"
      ]
    },
    {
      "cell_type": "code",
      "execution_count": null,
      "metadata": {
        "colab": {
          "base_uri": "https://localhost:8080/",
          "height": 283
        },
        "id": "jIuX-Tokjg6S",
        "outputId": "3f61a3a0-b123-46b7-bd4c-e2a673169e39"
      },
      "outputs": [
        {
          "output_type": "execute_result",
          "data": {
            "text/plain": [
              "<matplotlib.axes._subplots.AxesSubplot at 0x7fc9c89a8f50>"
            ]
          },
          "metadata": {},
          "execution_count": 14
        },
        {
          "output_type": "display_data",
          "data": {
            "text/plain": [
              "<Figure size 432x288 with 1 Axes>"
            ],
            "image/png": "[encoded data removed]"
          },
          "metadata": {
            "needs_background": "light"
          }
        }
      ],
      "source": [
        "dataset['ApplicantIncome'].hist(bins=20)"
      ]
    },
    {
      "cell_type": "code",
      "execution_count": null,
      "metadata": {
        "colab": {
          "base_uri": "https://localhost:8080/",
          "height": 283
        },
        "id": "5CDW5Za4jrxT",
        "outputId": "7a5d61cd-7d72-4566-d812-34bcc6ca2935"
      },
      "outputs": [
        {
          "output_type": "execute_result",
          "data": {
            "text/plain": [
              "<matplotlib.axes._subplots.AxesSubplot at 0x7fc9c847e410>"
            ]
          },
          "metadata": {},
          "execution_count": 15
        },
        {
          "output_type": "display_data",
          "data": {
            "text/plain": [
              "<Figure size 432x288 with 1 Axes>"
            ],
            "image/png": "[encoded data removed]"
          },
          "metadata": {
            "needs_background": "light"
          }
        }
      ],
      "source": [
        "dataset['CoapplicantIncome'].hist(bins=20)"
      ]
    },
    {
      "cell_type": "code",
      "execution_count": null,
      "metadata": {
        "colab": {
          "base_uri": "https://localhost:8080/",
          "height": 374
        },
        "id": "0uT63hbjnMoJ",
        "outputId": "fb365540-96cf-4917-a18d-7ca5ed6742f0"
      },
      "outputs": [
        {
          "output_type": "stream",
          "name": "stderr",
          "text": [
            "/usr/local/lib/python3.7/dist-packages/matplotlib/cbook/__init__.py:1376: VisibleDeprecationWarning: Creating an ndarray from ragged nested sequences (which is a list-or-tuple of lists-or-tuples-or ndarrays with different lengths or shapes) is deprecated. If you meant to do this, you must specify 'dtype=object' when creating the ndarray.\n",
            "  X = np.atleast_1d(X.T if isinstance(X, np.ndarray) else np.asarray(X))\n"
          ]
        },
        {
          "output_type": "execute_result",
          "data": {
            "text/plain": [
              "<matplotlib.axes._subplots.AxesSubplot at 0x7fc9c8464110>"
            ]
          },
          "metadata": {},
          "execution_count": 16
        },
        {
          "output_type": "display_data",
          "data": {
            "text/plain": [
              "<Figure size 432x288 with 1 Axes>"
            ],
            "image/png": "[encoded data removed]"
          },
          "metadata": {
            "needs_background": "light"
          }
        }
      ],
      "source": [
        "dataset.boxplot(column='ApplicantIncome', by='Education')"
      ]
    },
    {
      "cell_type": "code",
      "execution_count": null,
      "metadata": {
        "colab": {
          "base_uri": "https://localhost:8080/",
          "height": 283
        },
        "id": "ySDPhHfenZvD",
        "outputId": "8cb8d74d-9608-4d87-b4fe-9f0ac9d0fbbf"
      },
      "outputs": [
        {
          "output_type": "execute_result",
          "data": {
            "text/plain": [
              "<matplotlib.axes._subplots.AxesSubplot at 0x7fc9c831ed50>"
            ]
          },
          "metadata": {},
          "execution_count": 17
        },
        {
          "output_type": "display_data",
          "data": {
            "text/plain": [
              "<Figure size 432x288 with 1 Axes>"
            ],
            "image/png": "[encoded data removed]"
          },
          "metadata": {
            "needs_background": "light"
          }
        }
      ],
      "source": [
        "dataset.boxplot(column='LoanAmount')"
      ]
    },
    {
      "cell_type": "code",
      "execution_count": null,
      "metadata": {
        "colab": {
          "base_uri": "https://localhost:8080/",
          "height": 283
        },
        "id": "KK8dTIKAnvQ9",
        "outputId": "6b7bb43c-f4b4-48e0-a28b-6a8d6413352e"
      },
      "outputs": [
        {
          "output_type": "execute_result",
          "data": {
            "text/plain": [
              "<matplotlib.axes._subplots.AxesSubplot at 0x7fc9c82919d0>"
            ]
          },
          "metadata": {},
          "execution_count": 18
        },
        {
          "output_type": "display_data",
          "data": {
            "text/plain": [
              "<Figure size 432x288 with 1 Axes>"
            ],
            "image/png": "[encoded data removed]"
          },
          "metadata": {
            "needs_background": "light"
          }
        }
      ],
      "source": [
        "dataset['LoanAmount'].hist(bins=20)"
      ]
    },
    {
      "cell_type": "code",
      "execution_count": null,
      "metadata": {
        "id": "8DV1UMZcn3eo"
      },
      "outputs": [],
      "source": [
        "dataset['TotalIncome']=dataset['ApplicantIncome'] + dataset['CoapplicantIncome']\n",
        "dataset['TotalIncome_log']=np.log(dataset['TotalIncome'])"
      ]
    },
    {
      "cell_type": "code",
      "execution_count": null,
      "metadata": {
        "id": "t7QrO7wzowUG"
      },
      "outputs": [],
      "source": [
        "from typing import ValuesView\n",
        "x=dataset.iloc[:,np.r_[1:5,9:11,13:15]].values\n",
        "y=dataset.iloc[:,12].values"
      ]
    },
    {
      "cell_type": "code",
      "execution_count": null,
      "metadata": {
        "colab": {
          "base_uri": "https://localhost:8080/"
        },
        "id": "Vri9TUDKpU_v",
        "outputId": "4bd53d94-13ee-474d-946f-8c61b971af66"
      },
      "outputs": [
        {
          "output_type": "execute_result",
          "data": {
            "text/plain": [
              "array([['Male', 'No', '0', ..., 1.0, 5849.0, 8.674025985443025],\n",
              "       ['Male', 'Yes', '1', ..., 1.0, 6091.0, 8.714567550836485],\n",
              "       ['Male', 'Yes', '0', ..., 1.0, 3000.0, 8.006367567650246],\n",
              "       ...,\n",
              "       ['Male', 'Yes', '1', ..., 1.0, 8312.0, 9.025455532779063],\n",
              "       ['Male', 'Yes', '2', ..., 1.0, 7583.0, 8.933664178700935],\n",
              "       ['Female', 'No', '0', ..., 0.0, 4583.0, 8.430109084509125]],\n",
              "      dtype=object)"
            ]
          },
          "metadata": {},
          "execution_count": 21
        }
      ],
      "source": [
        "x"
      ]
    },
    {
      "cell_type": "code",
      "execution_count": null,
      "metadata": {
        "colab": {
          "base_uri": "https://localhost:8080/"
        },
        "id": "9BYmlc1EpXmh",
        "outputId": "354197c0-6a2d-4d5c-a7b6-8c2be1faa1b2"
      },
      "outputs": [
        {
          "output_type": "execute_result",
          "data": {
            "text/plain": [
              "array(['Y', 'N', 'Y', 'Y', 'Y', 'Y', 'Y', 'N', 'Y', 'N', 'Y', 'Y', 'Y',\n",
              "       'N', 'Y', 'Y', 'Y', 'N', 'N', 'Y', 'N', 'Y', 'N', 'N', 'N', 'Y',\n",
              "       'Y', 'Y', 'N', 'Y', 'N', 'N', 'N', 'Y', 'N', 'Y', 'N', 'Y', 'Y',\n",
              "       'Y', 'N', 'Y', 'Y', 'Y', 'Y', 'Y', 'Y', 'Y', 'N', 'Y', 'Y', 'Y',\n",
              "       'N', 'N', 'N', 'Y', 'Y', 'N', 'Y', 'Y', 'Y', 'Y', 'N', 'N', 'N',\n",
              "       'N', 'N', 'Y', 'Y', 'N', 'Y', 'Y', 'Y', 'N', 'Y', 'N', 'N', 'N',\n",
              "       'N', 'Y', 'Y', 'Y', 'N', 'N', 'Y', 'Y', 'Y', 'Y', 'Y', 'Y', 'Y',\n",
              "       'Y', 'Y', 'Y', 'Y', 'N', 'Y', 'Y', 'Y', 'Y', 'Y', 'Y', 'Y', 'Y',\n",
              "       'Y', 'Y', 'Y', 'N', 'N', 'Y', 'Y', 'Y', 'N', 'Y', 'Y', 'Y', 'Y',\n",
              "       'Y', 'N', 'Y', 'Y', 'Y', 'Y', 'Y', 'Y', 'Y', 'Y', 'Y', 'N', 'N',\n",
              "       'Y', 'Y', 'Y', 'Y', 'Y', 'N', 'N', 'Y', 'N', 'N', 'N', 'Y', 'Y',\n",
              "       'Y', 'Y', 'Y', 'Y', 'Y', 'N', 'Y', 'N', 'Y', 'N', 'N', 'Y', 'Y',\n",
              "       'Y', 'Y', 'Y', 'Y', 'Y', 'N', 'N', 'Y', 'Y', 'Y', 'N', 'Y', 'N',\n",
              "       'Y', 'Y', 'Y', 'N', 'Y', 'N', 'Y', 'Y', 'N', 'Y', 'N', 'N', 'N',\n",
              "       'Y', 'N', 'Y', 'Y', 'N', 'Y', 'Y', 'Y', 'Y', 'N', 'N', 'Y', 'Y',\n",
              "       'N', 'Y', 'Y', 'Y', 'N', 'Y', 'Y', 'N', 'Y', 'Y', 'Y', 'Y', 'Y',\n",
              "       'Y', 'N', 'N', 'N', 'Y', 'Y', 'Y', 'Y', 'N', 'Y', 'N', 'Y', 'N',\n",
              "       'Y', 'Y', 'Y', 'Y', 'N', 'N', 'Y', 'Y', 'Y', 'Y', 'Y', 'Y', 'Y',\n",
              "       'Y', 'Y', 'N', 'Y', 'Y', 'Y', 'Y', 'N', 'Y', 'Y', 'Y', 'N', 'Y',\n",
              "       'Y', 'Y', 'Y', 'N', 'N', 'Y', 'Y', 'N', 'Y', 'N', 'N', 'N', 'N',\n",
              "       'Y', 'Y', 'N', 'Y', 'Y', 'Y', 'Y', 'Y', 'N', 'Y', 'Y', 'Y', 'Y',\n",
              "       'Y', 'Y', 'Y', 'Y', 'Y', 'Y', 'Y', 'N', 'Y', 'Y', 'Y', 'N', 'Y',\n",
              "       'N', 'Y', 'Y', 'Y', 'Y', 'N', 'Y', 'N', 'Y', 'Y', 'Y', 'Y', 'N',\n",
              "       'N', 'N', 'Y', 'Y', 'Y', 'Y', 'N', 'Y', 'N', 'N', 'Y', 'Y', 'Y',\n",
              "       'Y', 'Y', 'N', 'Y', 'Y', 'Y', 'Y', 'N', 'Y', 'Y', 'Y', 'Y', 'Y',\n",
              "       'N', 'Y', 'Y', 'N', 'Y', 'Y', 'Y', 'Y', 'Y', 'Y', 'Y', 'Y', 'Y',\n",
              "       'N', 'Y', 'N', 'N', 'Y', 'Y', 'Y', 'Y', 'N', 'Y', 'Y', 'Y', 'Y',\n",
              "       'N', 'Y', 'N', 'Y', 'Y', 'Y', 'N', 'N', 'Y', 'N', 'Y', 'Y', 'Y',\n",
              "       'Y', 'N', 'N', 'N', 'Y', 'N', 'Y', 'Y', 'Y', 'N', 'Y', 'Y', 'Y',\n",
              "       'Y', 'N', 'Y', 'Y', 'Y', 'Y', 'Y', 'N', 'Y', 'Y', 'N', 'Y', 'Y',\n",
              "       'Y', 'Y', 'Y', 'Y', 'Y', 'Y', 'N', 'Y', 'Y', 'N', 'N', 'N', 'Y',\n",
              "       'Y', 'N', 'Y', 'Y', 'Y', 'N', 'N', 'N', 'Y', 'N', 'Y', 'N', 'Y',\n",
              "       'N', 'N', 'Y', 'Y', 'Y', 'N', 'Y', 'N', 'Y', 'Y', 'N', 'Y', 'Y',\n",
              "       'Y', 'Y', 'N', 'Y', 'Y', 'Y', 'Y', 'Y', 'Y', 'N', 'Y', 'Y', 'Y',\n",
              "       'Y', 'Y', 'Y', 'Y', 'Y', 'N', 'N', 'N', 'N', 'Y', 'N', 'Y', 'Y',\n",
              "       'Y', 'Y', 'N', 'Y', 'N', 'Y', 'Y', 'Y', 'Y', 'N', 'Y', 'N', 'Y',\n",
              "       'Y', 'N', 'Y', 'N', 'Y', 'Y', 'Y', 'Y', 'Y', 'N', 'Y', 'N', 'Y',\n",
              "       'Y', 'Y', 'Y', 'Y', 'Y', 'N', 'N', 'Y', 'N', 'Y', 'Y', 'Y', 'Y',\n",
              "       'N', 'Y', 'Y', 'Y', 'Y', 'N', 'Y', 'Y', 'Y', 'N', 'Y', 'Y', 'Y',\n",
              "       'N', 'Y', 'Y', 'N', 'Y', 'Y', 'N', 'N', 'Y', 'Y', 'N', 'N', 'N',\n",
              "       'Y', 'Y', 'Y', 'Y', 'N', 'Y', 'Y', 'Y', 'Y', 'Y', 'Y', 'Y', 'N',\n",
              "       'N', 'Y', 'Y', 'Y', 'Y', 'N', 'Y', 'Y', 'N', 'Y', 'Y', 'Y', 'Y',\n",
              "       'N', 'Y', 'N', 'Y', 'N', 'Y', 'Y', 'N', 'N', 'Y', 'Y', 'Y', 'Y',\n",
              "       'Y', 'Y', 'Y', 'Y', 'Y', 'N', 'Y', 'Y', 'N', 'N', 'N', 'Y', 'N',\n",
              "       'Y', 'N', 'N', 'Y', 'N', 'Y', 'Y', 'Y', 'Y', 'N', 'Y', 'N', 'N',\n",
              "       'N', 'Y', 'Y', 'Y', 'N', 'Y', 'N', 'Y', 'Y', 'Y', 'Y', 'N', 'N',\n",
              "       'Y', 'Y', 'N', 'Y', 'Y', 'Y', 'Y', 'N', 'Y', 'Y', 'Y', 'Y', 'Y',\n",
              "       'Y', 'Y', 'N'], dtype=object)"
            ]
          },
          "metadata": {},
          "execution_count": 22
        }
      ],
      "source": [
        "y"
      ]
    },
    {
      "cell_type": "markdown",
      "metadata": {
        "id": "EBg-mYnF_cde"
      },
      "source": [
        "**Splitting of dataset**"
      ]
    },
    {
      "cell_type": "code",
      "execution_count": null,
      "metadata": {
        "id": "Zm7RBFBppgaC"
      },
      "outputs": [],
      "source": [
        "from sklearn.model_selection import train_test_split\n",
        "x_train, x_test, y_train, y_test = train_test_split(x,y,test_size=0.2, random_state=0) "
      ]
    },
    {
      "cell_type": "code",
      "execution_count": null,
      "metadata": {
        "colab": {
          "base_uri": "https://localhost:8080/"
        },
        "id": "h6448pZ8p7he",
        "outputId": "fe076c3b-d8da-47a2-a968-1b0addef7dea"
      },
      "outputs": [
        {
          "output_type": "stream",
          "name": "stdout",
          "text": [
            "[['Male' 'Yes' '0' ... 1.0 5858.0 8.675563527387679]\n",
            " ['Male' 'No' '1' ... 1.0 11250.0 9.328123407632566]\n",
            " ['Male' 'Yes' '0' ... 0.0 5681.0 8.644882552557126]\n",
            " ...\n",
            " ['Male' 'Yes' '3+' ... 1.0 8334.0 9.0280988119824]\n",
            " ['Male' 'Yes' '0' ... 1.0 6033.0 8.704999678440762]\n",
            " ['Female' 'Yes' '0' ... 1.0 6486.0 8.777401286867264]]\n"
          ]
        }
      ],
      "source": [
        "print(x_train)"
      ]
    },
    {
      "cell_type": "markdown",
      "metadata": {
        "id": "friY3Kz5_kCG"
      },
      "source": [
        "**Preprocessing Steps**"
      ]
    },
    {
      "cell_type": "code",
      "execution_count": null,
      "metadata": {
        "id": "fxtE3f3Up_MP"
      },
      "outputs": [],
      "source": [
        "from sklearn.preprocessing import LabelEncoder\n",
        "labelencoder_x = LabelEncoder()"
      ]
    },
    {
      "cell_type": "code",
      "execution_count": null,
      "metadata": {
        "id": "W36-B4-ECdlB",
        "outputId": "29e0ec61-4bf5-4162-d0bc-cb5869544628",
        "colab": {
          "base_uri": "https://localhost:8080/",
          "height": 184
        }
      },
      "outputs": [
        {
          "output_type": "error",
          "ename": "NameError",
          "evalue": "ignored",
          "traceback": [
            "\u001b[0;31m---------------------------------------------------------------------------\u001b[0m",
            "\u001b[0;31mNameError\u001b[0m                                 Traceback (most recent call last)",
            "\u001b[0;32m<ipython-input-1-35026038d328>\u001b[0m in \u001b[0;36m<module>\u001b[0;34m()\u001b[0m\n\u001b[1;32m      1\u001b[0m \u001b[0;32mfor\u001b[0m \u001b[0mi\u001b[0m \u001b[0;32min\u001b[0m \u001b[0mrange\u001b[0m\u001b[0;34m(\u001b[0m\u001b[0;36m0\u001b[0m\u001b[0;34m,\u001b[0m\u001b[0;36m5\u001b[0m\u001b[0;34m)\u001b[0m\u001b[0;34m:\u001b[0m\u001b[0;34m\u001b[0m\u001b[0;34m\u001b[0m\u001b[0m\n\u001b[0;32m----> 2\u001b[0;31m   \u001b[0mx_train\u001b[0m\u001b[0;34m[\u001b[0m\u001b[0;34m:\u001b[0m\u001b[0;34m,\u001b[0m\u001b[0mi\u001b[0m\u001b[0;34m]\u001b[0m\u001b[0;34m=\u001b[0m\u001b[0mlabelencoder_x\u001b[0m\u001b[0;34m.\u001b[0m\u001b[0mfit_transform\u001b[0m\u001b[0;34m(\u001b[0m\u001b[0mx_train\u001b[0m\u001b[0;34m[\u001b[0m\u001b[0;34m:\u001b[0m\u001b[0;34m,\u001b[0m\u001b[0mi\u001b[0m\u001b[0;34m]\u001b[0m\u001b[0;34m)\u001b[0m\u001b[0;34m\u001b[0m\u001b[0;34m\u001b[0m\u001b[0m\n\u001b[0m",
            "\u001b[0;31mNameError\u001b[0m: name 'labelencoder_x' is not defined"
          ]
        }
      ],
      "source": [
        "for i in range(0,5):\n",
        "  x_train[:,i]=labelencoder_x.fit_transform(x_train[:,i])"
      ]
    },
    {
      "cell_type": "code",
      "execution_count": null,
      "metadata": {
        "id": "7gRhkDrGHAyH"
      },
      "outputs": [],
      "source": [
        "x_train[:,7]=labelencoder_x.fit_transform(x_train[:,7])"
      ]
    },
    {
      "cell_type": "code",
      "execution_count": null,
      "metadata": {
        "colab": {
          "base_uri": "https://localhost:8080/"
        },
        "id": "Y1MEandFHN7u",
        "outputId": "eac66cd7-9db4-4fb8-ba2f-f539d500cec2"
      },
      "outputs": [
        {
          "output_type": "execute_result",
          "data": {
            "text/plain": [
              "array([[1, 1, 0, ..., 1.0, 5858.0, 267],\n",
              "       [1, 0, 1, ..., 1.0, 11250.0, 407],\n",
              "       [1, 1, 0, ..., 0.0, 5681.0, 249],\n",
              "       ...,\n",
              "       [1, 1, 3, ..., 1.0, 8334.0, 363],\n",
              "       [1, 1, 0, ..., 1.0, 6033.0, 273],\n",
              "       [0, 1, 0, ..., 1.0, 6486.0, 301]], dtype=object)"
            ]
          },
          "metadata": {},
          "execution_count": 28
        }
      ],
      "source": [
        "x_train"
      ]
    },
    {
      "cell_type": "code",
      "execution_count": null,
      "metadata": {
        "id": "ug4hmrxaHQZZ"
      },
      "outputs": [],
      "source": [
        "labelencoder_y=LabelEncoder()\n",
        "y_train=labelencoder_y.fit_transform(y_train)"
      ]
    },
    {
      "cell_type": "code",
      "execution_count": null,
      "metadata": {
        "colab": {
          "base_uri": "https://localhost:8080/"
        },
        "id": "JYvdvtLTHkYa",
        "outputId": "e78d3330-1001-4638-908a-c6163bd56d58"
      },
      "outputs": [
        {
          "output_type": "execute_result",
          "data": {
            "text/plain": [
              "array([1, 0, 0, 1, 1, 0, 1, 1, 1, 0, 0, 1, 1, 1, 1, 1, 1, 1, 1, 0, 1, 1,\n",
              "       0, 1, 1, 0, 0, 1, 1, 1, 0, 1, 1, 1, 1, 1, 0, 1, 0, 1, 0, 1, 1, 1,\n",
              "       1, 0, 0, 0, 1, 1, 1, 0, 1, 1, 1, 1, 1, 1, 1, 1, 0, 1, 0, 1, 1, 0,\n",
              "       1, 1, 1, 1, 1, 0, 0, 1, 1, 0, 1, 0, 0, 1, 0, 0, 1, 1, 1, 1, 1, 1,\n",
              "       1, 1, 0, 1, 0, 1, 0, 1, 1, 1, 1, 0, 0, 1, 1, 1, 0, 1, 1, 0, 0, 0,\n",
              "       1, 1, 1, 0, 1, 0, 0, 1, 0, 0, 0, 1, 1, 1, 1, 1, 0, 0, 0, 0, 1, 1,\n",
              "       0, 1, 1, 1, 1, 1, 1, 0, 0, 1, 1, 1, 1, 1, 0, 1, 1, 1, 1, 1, 1, 1,\n",
              "       1, 1, 1, 0, 1, 1, 1, 1, 1, 1, 1, 1, 1, 1, 1, 0, 0, 1, 1, 1, 1, 0,\n",
              "       0, 1, 0, 1, 0, 0, 0, 1, 0, 1, 1, 1, 1, 1, 0, 0, 1, 0, 1, 1, 1, 1,\n",
              "       0, 0, 1, 1, 1, 1, 1, 0, 0, 1, 1, 1, 1, 0, 1, 1, 1, 1, 0, 0, 1, 1,\n",
              "       0, 1, 1, 1, 0, 1, 1, 1, 0, 1, 0, 1, 0, 1, 1, 0, 0, 0, 1, 0, 1, 1,\n",
              "       1, 1, 1, 0, 1, 1, 1, 1, 1, 1, 0, 1, 0, 1, 0, 1, 1, 1, 1, 1, 1, 1,\n",
              "       1, 1, 0, 0, 1, 0, 1, 1, 1, 0, 1, 1, 0, 1, 0, 1, 0, 1, 1, 1, 1, 1,\n",
              "       1, 1, 1, 1, 0, 1, 1, 0, 1, 1, 1, 0, 0, 1, 1, 1, 1, 0, 1, 0, 1, 1,\n",
              "       1, 1, 1, 0, 1, 0, 1, 0, 0, 1, 1, 0, 1, 1, 0, 1, 1, 0, 0, 1, 1, 1,\n",
              "       1, 1, 1, 0, 1, 1, 1, 0, 1, 0, 0, 0, 0, 1, 1, 1, 1, 0, 0, 1, 1, 1,\n",
              "       1, 0, 1, 0, 1, 1, 1, 1, 1, 0, 1, 1, 1, 1, 1, 1, 1, 0, 1, 0, 0, 0,\n",
              "       1, 1, 0, 1, 1, 1, 1, 0, 1, 1, 0, 1, 0, 0, 0, 1, 1, 1, 1, 1, 1, 1,\n",
              "       1, 0, 1, 0, 1, 1, 1, 0, 1, 1, 1, 0, 0, 1, 1, 1, 1, 0, 1, 1, 1, 1,\n",
              "       1, 1, 0, 1, 0, 1, 0, 1, 1, 0, 0, 1, 1, 0, 1, 1, 1, 1, 1, 1, 1, 0,\n",
              "       1, 1, 0, 0, 1, 0, 1, 1, 1, 1, 1, 1, 1, 0, 0, 1, 0, 0, 0, 0, 0, 1,\n",
              "       1, 1, 1, 1, 1, 0, 1, 0, 1, 0, 0, 1, 1, 1, 0, 1, 1, 0, 0, 0, 0, 1,\n",
              "       1, 1, 1, 0, 1, 0, 1])"
            ]
          },
          "metadata": {},
          "execution_count": 30
        }
      ],
      "source": [
        "y_train"
      ]
    },
    {
      "cell_type": "code",
      "execution_count": null,
      "metadata": {
        "id": "psRNZ_oWHm4H"
      },
      "outputs": [],
      "source": [
        "for i in range(0,5):\n",
        "  x_test[:,i]=labelencoder_x.fit_transform(x_test[:,i])"
      ]
    },
    {
      "cell_type": "code",
      "execution_count": null,
      "metadata": {
        "id": "XLhnpJTiH7BP"
      },
      "outputs": [],
      "source": [
        "x_test[:,7]=labelencoder_x.fit_transform(x_test[:,7])"
      ]
    },
    {
      "cell_type": "code",
      "execution_count": null,
      "metadata": {
        "id": "FwuG5u87IJXZ"
      },
      "outputs": [],
      "source": [
        "labelencoder_y=LabelEncoder()\n",
        "y_test=labelencoder_y.fit_transform(y_test)"
      ]
    },
    {
      "cell_type": "code",
      "execution_count": null,
      "metadata": {
        "colab": {
          "base_uri": "https://localhost:8080/"
        },
        "id": "NpuLKoYVIYVG",
        "outputId": "0d16cd40-5ccb-4b77-f72c-d0dfd2c56034"
      },
      "outputs": [
        {
          "output_type": "execute_result",
          "data": {
            "text/plain": [
              "array([[1, 0, 0, 0, 5, 1.0, 7085.0, 85],\n",
              "       [0, 0, 0, 0, 5, 1.0, 4230.0, 28],\n",
              "       [1, 1, 0, 0, 5, 1.0, 10039.0, 104],\n",
              "       [1, 1, 0, 0, 5, 1.0, 6784.0, 80],\n",
              "       [1, 1, 2, 0, 5, 1.0, 3875.0, 22],\n",
              "       [1, 1, 0, 1, 3, 0.0, 6058.0, 70],\n",
              "       [1, 1, 3, 0, 3, 1.0, 6417.0, 77],\n",
              "       [1, 0, 0, 0, 5, 1.0, 12876.0, 114],\n",
              "       [1, 0, 0, 0, 5, 0.0, 5124.0, 53],\n",
              "       [1, 1, 0, 0, 5, 1.0, 5233.0, 55],\n",
              "       [0, 0, 0, 0, 5, 1.0, 2917.0, 4],\n",
              "       [1, 1, 1, 0, 5, 1.0, 2895.0, 2],\n",
              "       [0, 0, 0, 0, 5, 1.0, 8333.0, 96],\n",
              "       [1, 1, 2, 0, 5, 1.0, 8667.0, 97],\n",
              "       [1, 1, 0, 0, 5, 1.0, 14880.0, 117],\n",
              "       [1, 1, 1, 0, 5, 1.0, 3875.0, 22],\n",
              "       [1, 0, 1, 1, 5, 1.0, 4311.0, 32],\n",
              "       [1, 0, 0, 1, 5, 1.0, 3946.0, 25],\n",
              "       [0, 0, 0, 0, 5, 1.0, 2500.0, 1],\n",
              "       [1, 1, 0, 1, 5, 0.0, 4787.0, 44],\n",
              "       [0, 1, 0, 0, 5, 0.0, 6085.0, 71],\n",
              "       [1, 1, 0, 0, 5, 1.0, 4765.0, 43],\n",
              "       [1, 1, 2, 0, 5, 1.0, 7550.0, 91],\n",
              "       [1, 1, 2, 0, 5, 1.0, 11500.0, 111],\n",
              "       [1, 1, 0, 0, 5, 1.0, 4521.0, 35],\n",
              "       [1, 1, 1, 0, 5, 1.0, 8069.0, 94],\n",
              "       [1, 0, 0, 0, 5, 1.0, 8724.0, 98],\n",
              "       [1, 1, 0, 0, 5, 1.0, 11333.0, 110],\n",
              "       [1, 1, 3, 0, 5, 0.0, 4680.0, 41],\n",
              "       [0, 0, 0, 0, 5, 0.0, 5000.0, 50],\n",
              "       [1, 1, 0, 0, 5, 1.0, 9083.0, 99],\n",
              "       [1, 0, 0, 1, 5, 1.0, 4885.0, 46],\n",
              "       [1, 1, 1, 1, 5, 1.0, 5100.0, 52],\n",
              "       [1, 1, 0, 0, 5, 1.0, 9734.0, 102],\n",
              "       [1, 1, 0, 0, 5, 1.0, 8235.0, 95],\n",
              "       [0, 1, 0, 1, 5, 0.0, 5386.0, 57],\n",
              "       [1, 1, 0, 0, 5, 1.0, 5717.0, 65],\n",
              "       [1, 0, 0, 1, 5, 1.0, 4592.0, 39],\n",
              "       [1, 1, 0, 0, 5, 1.0, 6250.0, 75],\n",
              "       [1, 1, 2, 1, 5, 1.0, 3917.0, 24],\n",
              "       [0, 0, 0, 0, 5, 1.0, 3244.0, 9],\n",
              "       [1, 1, 3, 0, 5, 0.0, 5900.0, 68],\n",
              "       [1, 1, 2, 0, 2, 1.0, 2385.0, 0],\n",
              "       [1, 1, 1, 1, 5, 1.0, 5783.0, 67],\n",
              "       [1, 0, 0, 0, 5, 1.0, 3858.0, 21],\n",
              "       [1, 0, 0, 0, 5, 1.0, 12083.0, 113],\n",
              "       [1, 1, 1, 0, 5, 1.0, 3750.0, 18],\n",
              "       [0, 0, 0, 0, 5, 1.0, 4547.0, 37],\n",
              "       [1, 1, 1, 0, 5, 1.0, 6091.0, 72],\n",
              "       [1, 0, 0, 0, 5, 1.0, 6500.0, 78],\n",
              "       [1, 1, 3, 1, 5, 1.0, 3173.0, 8],\n",
              "       [1, 1, 0, 0, 5, 1.0, 7083.0, 84],\n",
              "       [1, 1, 0, 1, 5, 1.0, 4300.0, 31],\n",
              "       [1, 0, 0, 0, 5, 1.0, 5505.0, 61],\n",
              "       [1, 1, 0, 0, 5, 1.0, 3798.0, 19],\n",
              "       [1, 1, 0, 0, 5, 1.0, 10916.0, 107],\n",
              "       [1, 1, 0, 0, 5, 1.0, 4492.0, 34],\n",
              "       [1, 0, 0, 1, 5, 1.0, 6216.0, 74],\n",
              "       [1, 1, 2, 0, 5, 1.0, 5532.0, 62],\n",
              "       [1, 0, 0, 0, 5, 1.0, 4191.0, 27],\n",
              "       [0, 0, 0, 0, 5, 0.0, 11117.0, 108],\n",
              "       [0, 0, 0, 0, 5, 1.0, 10000.0, 103],\n",
              "       [1, 1, 0, 1, 5, 1.0, 4567.0, 38],\n",
              "       [0, 0, 0, 0, 5, 0.0, 3510.0, 13],\n",
              "       [1, 1, 2, 0, 5, 1.0, 5935.0, 69],\n",
              "       [1, 1, 1, 0, 5, 1.0, 11580.0, 112],\n",
              "       [1, 1, 0, 0, 5, 1.0, 6166.0, 73],\n",
              "       [1, 0, 0, 0, 5, 1.0, 4897.0, 47],\n",
              "       [1, 1, 0, 0, 5, 1.0, 6873.0, 81],\n",
              "       [1, 0, 0, 1, 5, 1.0, 5484.0, 60],\n",
              "       [1, 0, 0, 0, 5, 1.0, 6979.0, 83],\n",
              "       [0, 1, 0, 0, 5, 1.0, 2928.0, 5],\n",
              "       [1, 1, 2, 1, 5, 1.0, 5398.0, 58],\n",
              "       [1, 1, 1, 1, 3, 1.0, 6608.0, 79],\n",
              "       [0, 1, 0, 0, 5, 1.0, 5126.0, 54],\n",
              "       [1, 1, 0, 1, 4, 1.0, 5297.0, 56],\n",
              "       [1, 0, 0, 0, 5, 1.0, 35673.0, 120],\n",
              "       [1, 0, 3, 0, 5, 1.0, 15500.0, 118],\n",
              "       [1, 1, 2, 0, 5, 1.0, 9703.0, 101],\n",
              "       [0, 0, 0, 0, 5, 0.0, 4166.0, 26],\n",
              "       [0, 0, 0, 0, 6, 1.0, 4328.0, 33],\n",
              "       [1, 1, 1, 0, 5, 1.0, 18333.0, 119],\n",
              "       [0, 0, 0, 0, 5, 1.0, 7441.0, 89],\n",
              "       [1, 1, 2, 0, 5, 1.0, 7583.0, 92],\n",
              "       [1, 0, 0, 0, 6, 1.0, 3069.0, 6],\n",
              "       [1, 1, 0, 0, 0, 1.0, 7482.0, 90],\n",
              "       [1, 1, 0, 0, 5, 1.0, 4801.0, 45],\n",
              "       [1, 1, 2, 0, 5, 1.0, 11179.0, 109],\n",
              "       [1, 0, 1, 0, 3, 1.0, 3667.0, 17],\n",
              "       [1, 1, 1, 0, 5, 1.0, 4545.0, 36],\n",
              "       [0, 1, 0, 1, 5, 1.0, 3572.0, 16],\n",
              "       [1, 0, 0, 0, 5, 1.0, 3167.0, 7],\n",
              "       [1, 1, 1, 0, 1, 1.0, 7283.0, 88],\n",
              "       [1, 1, 3, 0, 4, 0.0, 7167.0, 87],\n",
              "       [0, 0, 0, 0, 5, 1.0, 2900.0, 3],\n",
              "       [1, 0, 0, 1, 3, 0.0, 5454.0, 59],\n",
              "       [1, 0, 0, 0, 3, 1.0, 6950.0, 82],\n",
              "       [1, 0, 0, 0, 5, 1.0, 5762.0, 66],\n",
              "       [1, 1, 2, 1, 5, 1.0, 5093.0, 51],\n",
              "       [1, 1, 1, 0, 5, 1.0, 9538.0, 100],\n",
              "       [1, 1, 0, 0, 5, 1.0, 7977.0, 93],\n",
              "       [1, 1, 0, 0, 5, 1.0, 3539.0, 15],\n",
              "       [1, 1, 2, 0, 5, 1.0, 10819.0, 106],\n",
              "       [1, 0, 0, 0, 3, 1.0, 10383.0, 105],\n",
              "       [1, 1, 3, 0, 5, 1.0, 5703.0, 64],\n",
              "       [1, 0, 0, 0, 5, 1.0, 4950.0, 49],\n",
              "       [1, 0, 0, 1, 5, 1.0, 4750.0, 42],\n",
              "       [0, 0, 0, 0, 5, 1.0, 3410.0, 10],\n",
              "       [1, 1, 0, 1, 5, 1.0, 3849.0, 20],\n",
              "       [1, 1, 3, 1, 3, 1.0, 3522.0, 14],\n",
              "       [1, 0, 0, 0, 5, 1.0, 6400.0, 76],\n",
              "       [0, 0, 0, 0, 5, 1.0, 3418.0, 11],\n",
              "       [1, 0, 0, 0, 6, 1.0, 3750.0, 18],\n",
              "       [1, 1, 2, 0, 5, 1.0, 3900.0, 23],\n",
              "       [1, 1, 0, 1, 5, 0.0, 5558.0, 63],\n",
              "       [1, 1, 0, 0, 3, 0.0, 4949.0, 48],\n",
              "       [0, 0, 0, 0, 5, 1.0, 4292.0, 30],\n",
              "       [1, 0, 0, 0, 5, 1.0, 4269.0, 29],\n",
              "       [1, 1, 2, 0, 5, 1.0, 7100.0, 86],\n",
              "       [1, 1, 3, 0, 5, 1.0, 13746.0, 115],\n",
              "       [1, 1, 0, 0, 5, 1.0, 14583.0, 116],\n",
              "       [1, 1, 3, 1, 3, 0.0, 4611.0, 40],\n",
              "       [1, 1, 1, 0, 5, 1.0, 3428.0, 12]], dtype=object)"
            ]
          },
          "metadata": {},
          "execution_count": 34
        }
      ],
      "source": [
        "x_test"
      ]
    },
    {
      "cell_type": "code",
      "execution_count": null,
      "metadata": {
        "colab": {
          "base_uri": "https://localhost:8080/"
        },
        "id": "WwAJnCcuIbNJ",
        "outputId": "516046b5-97d9-4f4d-8c1d-50e61e289eb8"
      },
      "outputs": [
        {
          "output_type": "execute_result",
          "data": {
            "text/plain": [
              "array([1, 0, 1, 0, 1, 0, 1, 1, 0, 1, 1, 1, 1, 1, 1, 0, 0, 1, 1, 0, 0, 1,\n",
              "       1, 1, 1, 1, 1, 1, 0, 0, 1, 1, 1, 1, 1, 0, 1, 1, 1, 1, 1, 0, 1, 1,\n",
              "       1, 1, 1, 1, 0, 1, 1, 1, 1, 1, 1, 1, 1, 0, 1, 1, 1, 0, 1, 0, 1, 1,\n",
              "       1, 1, 1, 1, 0, 1, 1, 1, 1, 1, 0, 0, 1, 0, 1, 0, 0, 1, 0, 1, 1, 1,\n",
              "       1, 1, 1, 0, 0, 0, 1, 0, 1, 1, 1, 1, 1, 1, 1, 0, 1, 1, 1, 1, 1, 0,\n",
              "       1, 0, 0, 1, 0, 1, 1, 1, 1, 1, 1, 0, 1])"
            ]
          },
          "metadata": {},
          "execution_count": 35
        }
      ],
      "source": [
        "y_test"
      ]
    },
    {
      "cell_type": "code",
      "execution_count": null,
      "metadata": {
        "id": "Gf-D4hp2JH3J"
      },
      "outputs": [],
      "source": [
        "from sklearn.preprocessing import StandardScaler\n",
        "ss=StandardScaler()\n",
        "x_train=ss.fit_transform(x_train)\n",
        "x_test=ss.fit_transform(x_test)                  "
      ]
    },
    {
      "cell_type": "code",
      "source": [
        "print(x_train)"
      ],
      "metadata": {
        "colab": {
          "base_uri": "https://localhost:8080/"
        },
        "id": "QTHo98zI2R9a",
        "outputId": "50858a45-f7e2-40c4-c840-0f97798ee5b0"
      },
      "execution_count": null,
      "outputs": [
        {
          "output_type": "stream",
          "name": "stdout",
          "text": [
            "[[ 0.47374983  0.71143163 -0.76304669 ...  0.41790088 -0.18578759\n",
            "   0.29186348]\n",
            " [ 0.47374983 -1.40561644  0.22549137 ...  0.41790088  0.59265746\n",
            "   1.36113256]\n",
            " [ 0.47374983  0.71143163 -0.76304669 ... -2.39291191 -0.21134115\n",
            "   0.15438603]\n",
            " ...\n",
            " [ 0.47374983  0.71143163  2.2025675  ...  0.41790088  0.17167345\n",
            "   1.02507656]\n",
            " [ 0.47374983  0.71143163 -0.76304669 ...  0.41790088 -0.16052278\n",
            "   0.3376893 ]\n",
            " [-2.11081869  0.71143163 -0.76304669 ...  0.41790088 -0.095123\n",
            "   0.55154312]]\n"
          ]
        }
      ]
    },
    {
      "cell_type": "code",
      "source": [
        "print(x_test)"
      ],
      "metadata": {
        "colab": {
          "base_uri": "https://localhost:8080/"
        },
        "id": "NeoXQaVq2VM4",
        "outputId": "4e776c1f-e666-4605-c5e7-956d7efdb2ce"
      },
      "execution_count": null,
      "outputs": [
        {
          "output_type": "stream",
          "name": "stdout",
          "text": [
            "[[ 0.46671381 -1.25       -0.64059361 -0.51772699  0.29935278  0.3866946\n",
            "   0.13465755  0.73262333]\n",
            " [-2.14264068 -1.25       -0.64059361 -0.51772699  0.29935278  0.3866946\n",
            "  -0.57724973 -0.89540272]\n",
            " [ 0.46671381  0.8        -0.64059361 -0.51772699  0.29935278  0.3866946\n",
            "   0.87125093  1.27529868]\n",
            " [ 0.46671381  0.8        -0.64059361 -0.51772699  0.29935278  0.3866946\n",
            "   0.05960182  0.58981403]\n",
            " [ 0.46671381  0.8         1.37974009 -0.51772699  0.29935278  0.3866946\n",
            "  -0.6657706  -1.06677388]\n",
            " [ 0.46671381  0.8        -0.64059361  1.93151993 -2.07615636 -2.58602011\n",
            "  -0.12142959  0.30419542]\n",
            " [ 0.46671381  0.8         2.38990694 -0.51772699 -2.07615636  0.3866946\n",
            "  -0.0319113   0.50412845]\n",
            " [ 0.46671381 -1.25       -0.64059361 -0.51772699  0.29935278  0.3866946\n",
            "   1.57866982  1.56091729]\n",
            " [ 0.46671381 -1.25       -0.64059361 -0.51772699  0.29935278 -2.58602011\n",
            "  -0.35432675 -0.1813562 ]\n",
            " [ 0.46671381  0.8        -0.64059361 -0.51772699  0.29935278  0.3866946\n",
            "  -0.32714711 -0.12423248]\n",
            " [-2.14264068 -1.25       -0.64059361 -0.51772699  0.29935278  0.3866946\n",
            "  -0.90465227 -1.58088737]\n",
            " [ 0.46671381  0.8         0.36957324 -0.51772699  0.29935278  0.3866946\n",
            "  -0.91013807 -1.63801109]\n",
            " [-2.14264068 -1.25       -0.64059361 -0.51772699  0.29935278  0.3866946\n",
            "   0.44585204  1.0468038 ]\n",
            " [ 0.46671381  0.8         1.37974009 -0.51772699  0.29935278  0.3866946\n",
            "   0.52913647  1.07536566]\n",
            " [ 0.46671381  0.8        -0.64059361 -0.51772699  0.29935278  0.3866946\n",
            "   2.07837637  1.64660287]\n",
            " [ 0.46671381  0.8         0.36957324 -0.51772699  0.29935278  0.3866946\n",
            "  -0.6657706  -1.06677388]\n",
            " [ 0.46671381 -1.25        0.36957324  1.93151993  0.29935278  0.3866946\n",
            "  -0.55705201 -0.78115527]\n",
            " [ 0.46671381 -1.25       -0.64059361  1.93151993  0.29935278  0.3866946\n",
            "  -0.64806643 -0.9810883 ]\n",
            " [-2.14264068 -1.25       -0.64059361 -0.51772699  0.29935278  0.3866946\n",
            "  -1.00863313 -1.66657295]\n",
            " [ 0.46671381  0.8        -0.64059361  1.93151993  0.29935278 -2.58602011\n",
            "  -0.43835924 -0.43841295]\n",
            " [-2.14264068  0.8        -0.64059361 -0.51772699  0.29935278 -2.58602011\n",
            "  -0.11469702  0.33275729]\n",
            " [ 0.46671381  0.8        -0.64059361 -0.51772699  0.29935278  0.3866946\n",
            "  -0.44384504 -0.46697481]\n",
            " [ 0.46671381  0.8         1.37974009 -0.51772699  0.29935278  0.3866946\n",
            "   0.25060742  0.9039945 ]\n",
            " [ 0.46671381  0.8         1.37974009 -0.51772699  0.29935278  0.3866946\n",
            "   1.23555794  1.47523171]\n",
            " [ 0.46671381  0.8        -0.64059361 -0.51772699  0.29935278  0.3866946\n",
            "  -0.50468755 -0.69546969]\n",
            " [ 0.46671381  0.8         0.36957324 -0.51772699  0.29935278  0.3866946\n",
            "   0.38002244  0.98968008]\n",
            " [ 0.46671381 -1.25       -0.64059361 -0.51772699  0.29935278  0.3866946\n",
            "   0.54334968  1.10392752]\n",
            " [ 0.46671381  0.8        -0.64059361 -0.51772699  0.29935278  0.3866946\n",
            "   1.19391573  1.44666985]\n",
            " [ 0.46671381  0.8         2.38990694 -0.51772699  0.29935278 -2.58602011\n",
            "  -0.46504018 -0.52409853]\n",
            " [-2.14264068 -1.25       -0.64059361 -0.51772699  0.29935278 -2.58602011\n",
            "  -0.38524672 -0.26704179]\n",
            " [ 0.46671381  0.8        -0.64059361 -0.51772699  0.29935278  0.3866946\n",
            "   0.63286796  1.13248938]\n",
            " [ 0.46671381 -1.25       -0.64059361  1.93151993  0.29935278  0.3866946\n",
            "  -0.41392249 -0.38128923]\n",
            " [ 0.46671381  0.8         0.36957324  1.93151993  0.29935278  0.3866946\n",
            "  -0.36031126 -0.20991806]\n",
            " [ 0.46671381  0.8        -0.64059361 -0.51772699  0.29935278  0.3866946\n",
            "   0.79519778  1.21817496]\n",
            " [ 0.46671381  0.8        -0.64059361 -0.51772699  0.29935278  0.3866946\n",
            "   0.42141529  1.01824194]\n",
            " [-2.14264068  0.8        -0.64059361  1.93151993  0.29935278 -2.58602011\n",
            "  -0.28899586 -0.06710876]\n",
            " [ 0.46671381  0.8        -0.64059361 -0.51772699  0.29935278  0.3866946\n",
            "  -0.2064595   0.16138612]\n",
            " [ 0.46671381 -1.25       -0.64059361  1.93151993  0.29935278  0.3866946\n",
            "  -0.48698338 -0.58122225]\n",
            " [ 0.46671381  0.8        -0.64059361 -0.51772699  0.29935278  0.3866946\n",
            "  -0.07355351  0.44700473]\n",
            " [ 0.46671381  0.8         1.37974009  1.93151993  0.29935278  0.3866946\n",
            "  -0.65529771 -1.00965016]\n",
            " [-2.14264068 -1.25       -0.64059361 -0.51772699  0.29935278  0.3866946\n",
            "  -0.82311333 -1.43807807]\n",
            " [ 0.46671381  0.8         2.38990694 -0.51772699  0.29935278 -2.58602011\n",
            "  -0.16082761  0.2470717 ]\n",
            " [ 0.46671381  0.8         1.37974009 -0.51772699 -3.26391092  0.3866946\n",
            "  -1.0373089  -1.69513481]\n",
            " [ 0.46671381  0.8         0.36957324  1.93151993  0.29935278  0.3866946\n",
            "  -0.1900021   0.21850984]\n",
            " [ 0.46671381 -1.25       -0.64059361 -0.51772699  0.29935278  0.3866946\n",
            "  -0.67000963 -1.09533574]\n",
            " [ 0.46671381 -1.25       -0.64059361 -0.51772699  0.29935278  0.3866946\n",
            "   1.38093165  1.53235543]\n",
            " [ 0.46671381  0.8         0.36957324 -0.51772699  0.29935278  0.3866946\n",
            "  -0.69693992 -1.18102132]\n",
            " [-2.14264068 -1.25       -0.64059361 -0.51772699  0.29935278  0.3866946\n",
            "  -0.49820434 -0.63834597]\n",
            " [ 0.46671381  0.8         0.36957324 -0.51772699  0.29935278  0.3866946\n",
            "  -0.11320089  0.36131915]\n",
            " [ 0.46671381 -1.25       -0.64059361 -0.51772699  0.29935278  0.3866946\n",
            "  -0.01121487  0.53269031]\n",
            " [ 0.46671381  0.8         2.38990694  1.93151993  0.29935278  0.3866946\n",
            "  -0.84081751 -1.46663993]\n",
            " [ 0.46671381  0.8        -0.64059361 -0.51772699  0.29935278  0.3866946\n",
            "   0.13415884  0.70406147]\n",
            " [ 0.46671381  0.8        -0.64059361  1.93151993  0.29935278  0.3866946\n",
            "  -0.55979491 -0.80971713]\n",
            " [ 0.46671381 -1.25       -0.64059361 -0.51772699  0.29935278  0.3866946\n",
            "  -0.25932266  0.04713868]\n",
            " [ 0.46671381  0.8        -0.64059361 -0.51772699  0.29935278  0.3866946\n",
            "  -0.6849709  -1.15245946]\n",
            " [ 0.46671381  0.8        -0.64059361 -0.51772699  0.29935278  0.3866946\n",
            "   1.08993488  1.36098426]\n",
            " [ 0.46671381  0.8        -0.64059361 -0.51772699  0.29935278  0.3866946\n",
            "  -0.51191884 -0.72403155]\n",
            " [ 0.46671381 -1.25       -0.64059361  1.93151993  0.29935278  0.3866946\n",
            "  -0.08203157  0.41844287]\n",
            " [ 0.46671381  0.8         1.37974009 -0.51772699  0.29935278  0.3866946\n",
            "  -0.25259009  0.07570054]\n",
            " [ 0.46671381 -1.25       -0.64059361 -0.51772699  0.29935278  0.3866946\n",
            "  -0.58697456 -0.92396458]\n",
            " [-2.14264068 -1.25       -0.64059361 -0.51772699  0.29935278 -2.58602011\n",
            "   1.14005515  1.38954612]\n",
            " [-2.14264068 -1.25       -0.64059361 -0.51772699  0.29935278  0.3866946\n",
            "   0.8615261   1.24673682]\n",
            " [ 0.46671381  0.8        -0.64059361  1.93151993  0.29935278  0.3866946\n",
            "  -0.49321724 -0.60978411]\n",
            " [-2.14264068 -1.25       -0.64059361 -0.51772699  0.29935278 -2.58602011\n",
            "  -0.75678502 -1.32383062]\n",
            " [ 0.46671381  0.8         1.37974009 -0.51772699  0.29935278  0.3866946\n",
            "  -0.1521002   0.27563356]\n",
            " [ 0.46671381  0.8         0.36957324 -0.51772699  0.29935278  0.3866946\n",
            "   1.25550631  1.50379357]\n",
            " [ 0.46671381  0.8        -0.64059361 -0.51772699  0.29935278  0.3866946\n",
            "  -0.0944993   0.38988101]\n",
            " [ 0.46671381 -1.25       -0.64059361 -0.51772699  0.29935278  0.3866946\n",
            "  -0.41093024 -0.35272737]\n",
            " [ 0.46671381  0.8        -0.64059361 -0.51772699  0.29935278  0.3866946\n",
            "   0.08179438  0.61837589]\n",
            " [ 0.46671381 -1.25       -0.64059361  1.93151993  0.29935278  0.3866946\n",
            "  -0.26455911  0.01857682]\n",
            " [ 0.46671381 -1.25       -0.64059361 -0.51772699  0.29935278  0.3866946\n",
            "   0.10822596  0.67549961]\n",
            " [-2.14264068  0.8        -0.64059361 -0.51772699  0.29935278  0.3866946\n",
            "  -0.90190937 -1.55232551]\n",
            " [ 0.46671381  0.8         1.37974009  1.93151993  0.29935278  0.3866946\n",
            "  -0.2860036  -0.0385469 ]\n",
            " [ 0.46671381  0.8         0.36957324  1.93151993 -2.07615636  0.3866946\n",
            "   0.01571542  0.56125217]\n",
            " [-2.14264068  0.8        -0.64059361 -0.51772699  0.29935278  0.3866946\n",
            "  -0.35382804 -0.15279434]\n",
            " [ 0.46671381  0.8        -0.64059361  1.93151993 -0.88840179  0.3866946\n",
            "  -0.31118841 -0.09567062]\n",
            " [ 0.46671381 -1.25       -0.64059361 -0.51772699  0.29935278  0.3866946\n",
            "   7.26320581  1.73228845]\n",
            " [ 0.46671381 -1.25        2.38990694 -0.51772699  0.29935278  0.3866946\n",
            "   2.2329762   1.67516473]\n",
            " [ 0.46671381  0.8         1.37974009 -0.51772699  0.29935278  0.3866946\n",
            "   0.78746779  1.1896131 ]\n",
            " [-2.14264068 -1.25       -0.64059361 -0.51772699  0.29935278 -2.58602011\n",
            "  -0.59320842 -0.95252644]\n",
            " [-2.14264068 -1.25       -0.64059361 -0.51772699  1.48710734  0.3866946\n",
            "  -0.55281299 -0.75259341]\n",
            " [ 0.46671381  0.8         0.36957324 -0.51772699  0.29935278  0.3866946\n",
            "   2.93939768  1.70372659]\n",
            " [-2.14264068 -1.25       -0.64059361 -0.51772699  0.29935278  0.3866946\n",
            "   0.22342777  0.84687077]\n",
            " [ 0.46671381  0.8         1.37974009 -0.51772699  0.29935278  0.3866946\n",
            "   0.25883612  0.93255636]\n",
            " [ 0.46671381 -1.25       -0.64059361 -0.51772699  1.48710734  0.3866946\n",
            "  -0.86675038 -1.52376365]\n",
            " [ 0.46671381  0.8        -0.64059361 -0.51772699 -5.63942006  0.3866946\n",
            "   0.23365131  0.87543264]\n",
            " [ 0.46671381  0.8        -0.64059361 -0.51772699  0.29935278  0.3866946\n",
            "  -0.43486828 -0.40985109]\n",
            " [ 0.46671381  0.8         1.37974009 -0.51772699  0.29935278  0.3866946\n",
            "   1.15551513  1.41810798]\n",
            " [ 0.46671381 -1.25        0.36957324 -0.51772699 -2.07615636  0.3866946\n",
            "  -0.71763635 -1.20958318]\n",
            " [ 0.46671381  0.8         0.36957324 -0.51772699  0.29935278  0.3866946\n",
            "  -0.49870305 -0.66690783]\n",
            " [-2.14264068  0.8        -0.64059361  1.93151993  0.29935278  0.3866946\n",
            "  -0.74132504 -1.23814504]\n",
            " [ 0.46671381 -1.25       -0.64059361 -0.51772699  0.29935278  0.3866946\n",
            "  -0.84231363 -1.49520179]\n",
            " [ 0.46671381  0.8         0.36957324 -0.51772699 -4.45166549  0.3866946\n",
            "   0.18402975  0.81830891]\n",
            " [ 0.46671381  0.8         2.38990694 -0.51772699 -0.88840179 -2.58602011\n",
            "   0.15510462  0.78974705]\n",
            " [-2.14264068 -1.25       -0.64059361 -0.51772699  0.29935278  0.3866946\n",
            "  -0.9088913  -1.60944923]\n",
            " [ 0.46671381 -1.25       -0.64059361  1.93151993 -2.07615636 -2.58602011\n",
            "  -0.27203975 -0.00998504]\n",
            " [ 0.46671381 -1.25       -0.64059361 -0.51772699 -2.07615636  0.3866946\n",
            "   0.10099468  0.64693775]\n",
            " [ 0.46671381 -1.25       -0.64059361 -0.51772699  0.29935278  0.3866946\n",
            "  -0.19523854  0.18994798]\n",
            " [ 0.46671381  0.8         1.37974009  1.93151993  0.29935278  0.3866946\n",
            "  -0.36205674 -0.23847992]\n",
            " [ 0.46671381  0.8         0.36957324 -0.51772699  0.29935278  0.3866946\n",
            "   0.74632429  1.16105124]\n",
            " [ 0.46671381  0.8        -0.64059361 -0.51772699  0.29935278  0.3866946\n",
            "   0.35708182  0.96111822]\n",
            " [ 0.46671381  0.8        -0.64059361 -0.51772699  0.29935278  0.3866946\n",
            "  -0.74955374 -1.2667069 ]\n",
            " [ 0.46671381  0.8         1.37974009 -0.51772699  0.29935278  0.3866946\n",
            "   1.06574749  1.3324224 ]\n",
            " [ 0.46671381 -1.25       -0.64059361 -0.51772699 -2.07615636  0.3866946\n",
            "   0.9570289   1.30386054]\n",
            " [ 0.46671381  0.8         2.38990694 -0.51772699  0.29935278  0.3866946\n",
            "  -0.20995046  0.13282426]\n",
            " [ 0.46671381 -1.25       -0.64059361 -0.51772699  0.29935278  0.3866946\n",
            "  -0.39771445 -0.29560365]\n",
            " [ 0.46671381 -1.25       -0.64059361  1.93151993  0.29935278  0.3866946\n",
            "  -0.44758536 -0.49553667]\n",
            " [-2.14264068 -1.25       -0.64059361 -0.51772699  0.29935278  0.3866946\n",
            "  -0.78172047 -1.40951621]\n",
            " [ 0.46671381  0.8        -0.64059361  1.93151993  0.29935278  0.3866946\n",
            "  -0.67225382 -1.1238976 ]\n",
            " [ 0.46671381  0.8         2.38990694  1.93151993 -2.07615636  0.3866946\n",
            "  -0.75379276 -1.29526876]\n",
            " [ 0.46671381 -1.25       -0.64059361 -0.51772699  0.29935278  0.3866946\n",
            "  -0.03615033  0.47556659]\n",
            " [-2.14264068 -1.25       -0.64059361 -0.51772699  0.29935278  0.3866946\n",
            "  -0.77972564 -1.38095435]\n",
            " [ 0.46671381 -1.25       -0.64059361 -0.51772699  1.48710734  0.3866946\n",
            "  -0.69693992 -1.18102132]\n",
            " [ 0.46671381  0.8         1.37974009 -0.51772699  0.29935278  0.3866946\n",
            "  -0.65953674 -1.03821202]\n",
            " [ 0.46671381  0.8        -0.64059361  1.93151993  0.29935278 -2.58602011\n",
            "  -0.24610687  0.1042624 ]\n",
            " [ 0.46671381  0.8        -0.64059361 -0.51772699 -2.07615636 -2.58602011\n",
            "  -0.3979638  -0.32416551]\n",
            " [-2.14264068 -1.25       -0.64059361 -0.51772699  0.29935278  0.3866946\n",
            "  -0.56178975 -0.838279  ]\n",
            " [ 0.46671381 -1.25       -0.64059361 -0.51772699  0.29935278  0.3866946\n",
            "  -0.5675249  -0.86684086]\n",
            " [ 0.46671381  0.8         1.37974009 -0.51772699  0.29935278  0.3866946\n",
            "   0.13839786  0.76118519]\n",
            " [ 0.46671381  0.8         2.38990694 -0.51772699  0.29935278  0.3866946\n",
            "   1.79560829  1.58947915]\n",
            " [ 0.46671381  0.8        -0.64059361 -0.51772699  0.29935278  0.3866946\n",
            "   2.00431806  1.61804101]\n",
            " [ 0.46671381  0.8         2.38990694  1.93151993 -2.07615636 -2.58602011\n",
            "  -0.48224564 -0.55266039]\n",
            " [ 0.46671381  0.8         0.36957324 -0.51772699  0.29935278  0.3866946\n",
            "  -0.77723209 -1.35239248]]\n"
          ]
        }
      ]
    },
    {
      "cell_type": "markdown",
      "metadata": {
        "id": "THqZhx_S_qlv"
      },
      "source": [
        "**Accuracy-Decision Tree Classifier**"
      ]
    },
    {
      "cell_type": "code",
      "execution_count": null,
      "metadata": {
        "colab": {
          "base_uri": "https://localhost:8080/"
        },
        "id": "-6VqIpgnJkmI",
        "outputId": "98f328f7-c181-4b9b-9a2a-d8b45f9ce98d"
      },
      "outputs": [
        {
          "output_type": "execute_result",
          "data": {
            "text/plain": [
              "DecisionTreeClassifier(criterion='entropy', random_state=0)"
            ]
          },
          "metadata": {},
          "execution_count": 40
        }
      ],
      "source": [
        "from sklearn.tree import DecisionTreeClassifier\n",
        "DTClassifier = DecisionTreeClassifier(criterion='entropy',random_state=0)\n",
        "DTClassifier.fit(x_train,y_train)\n"
      ]
    },
    {
      "cell_type": "code",
      "execution_count": null,
      "metadata": {
        "colab": {
          "base_uri": "https://localhost:8080/"
        },
        "id": "qsxzutc1LBQQ",
        "outputId": "fbc21f8a-18f5-432a-d391-1bb7aedd61a9"
      },
      "outputs": [
        {
          "output_type": "execute_result",
          "data": {
            "text/plain": [
              "array([1, 1, 1, 1, 1, 0, 0, 0, 0, 0, 0, 0, 1, 1, 0, 1, 1, 1, 0, 0, 0, 1,\n",
              "       1, 1, 0, 1, 1, 1, 0, 0, 1, 0, 1, 1, 1, 0, 1, 0, 0, 1, 0, 1, 0, 1,\n",
              "       1, 1, 0, 0, 1, 1, 0, 1, 1, 1, 1, 1, 1, 1, 1, 1, 0, 1, 0, 0, 1, 1,\n",
              "       0, 1, 0, 1, 0, 0, 1, 1, 1, 1, 1, 1, 1, 0, 0, 1, 0, 1, 0, 1, 1, 1,\n",
              "       0, 0, 1, 0, 1, 1, 0, 0, 0, 1, 1, 1, 1, 0, 1, 1, 1, 1, 0, 0, 1, 0,\n",
              "       1, 0, 0, 1, 0, 0, 0, 1, 1, 1, 0, 0, 0])"
            ]
          },
          "metadata": {},
          "execution_count": 41
        }
      ],
      "source": [
        "y_pred=DTClassifier.predict(x_test)\n",
        "y_pred"
      ]
    },
    {
      "cell_type": "code",
      "execution_count": null,
      "metadata": {
        "colab": {
          "base_uri": "https://localhost:8080/"
        },
        "id": "rPfVigwrtgim",
        "outputId": "6097e43b-71bd-416a-d828-ad11e3508204"
      },
      "outputs": [
        {
          "output_type": "stream",
          "name": "stdout",
          "text": [
            "The accuracy of decision tree is:  61.78861788617886\n"
          ]
        }
      ],
      "source": [
        "from sklearn import metrics\n",
        "print('The accuracy of decision tree is: ',metrics.accuracy_score(y_pred,y_test)*100)"
      ]
    },
    {
      "cell_type": "code",
      "source": [
        "print('The recall using decision tree is:',metrics.recall_score(y_pred,y_test)*100)"
      ],
      "metadata": {
        "colab": {
          "base_uri": "https://localhost:8080/"
        },
        "id": "Lhd0wBQkemsn",
        "outputId": "b72614fd-6812-4eb9-d815-280094236051"
      },
      "execution_count": null,
      "outputs": [
        {
          "output_type": "stream",
          "name": "stdout",
          "text": [
            "The recall using decision tree is: 80.28169014084507\n"
          ]
        }
      ]
    },
    {
      "cell_type": "code",
      "source": [
        "print('The precision using decision tree is:',metrics.precision_score(y_pred,y_test)*100)"
      ],
      "metadata": {
        "colab": {
          "base_uri": "https://localhost:8080/"
        },
        "id": "aDiJcsi2fggk",
        "outputId": "55e1b830-9f3d-4f10-a0f0-af16d723f952"
      },
      "execution_count": null,
      "outputs": [
        {
          "output_type": "stream",
          "name": "stdout",
          "text": [
            "The precision using decision tree is: 63.33333333333333\n"
          ]
        }
      ]
    },
    {
      "cell_type": "code",
      "source": [
        "print('The f-score using decision tree is:',metrics.f1_score(y_pred,y_test)*100)"
      ],
      "metadata": {
        "colab": {
          "base_uri": "https://localhost:8080/"
        },
        "id": "SCSAaS4jfu-k",
        "outputId": "daca9599-a93b-4c7a-f84a-1b1138b70bf7"
      },
      "execution_count": null,
      "outputs": [
        {
          "output_type": "stream",
          "name": "stdout",
          "text": [
            "The f-score using decision tree is: 70.80745341614907\n"
          ]
        }
      ]
    },
    {
      "cell_type": "code",
      "source": [
        "print('The confusion matrix of decision tree is:',metrics.confusion_matrix(y_pred,y_test))\n"
      ],
      "metadata": {
        "colab": {
          "base_uri": "https://localhost:8080/"
        },
        "id": "XCnfUJTClIEP",
        "outputId": "9459aab1-7190-4216-ec6a-1e60534d5722"
      },
      "execution_count": null,
      "outputs": [
        {
          "output_type": "stream",
          "name": "stdout",
          "text": [
            "The confusion matrix of decision tree is: [[19 33]\n",
            " [14 57]]\n"
          ]
        }
      ]
    },
    {
      "cell_type": "markdown",
      "metadata": {
        "id": "rqpxtSRY_14X"
      },
      "source": [
        "**Accuracy-Naive Bayes**"
      ]
    },
    {
      "cell_type": "code",
      "execution_count": null,
      "metadata": {
        "colab": {
          "base_uri": "https://localhost:8080/"
        },
        "id": "zGpdLmMJuGoU",
        "outputId": "7e84d780-051b-4bf7-86d7-33e69c2be8bf"
      },
      "outputs": [
        {
          "output_type": "execute_result",
          "data": {
            "text/plain": [
              "GaussianNB()"
            ]
          },
          "metadata": {},
          "execution_count": 47
        }
      ],
      "source": [
        "from sklearn.naive_bayes import GaussianNB\n",
        "NBClassifier = GaussianNB()\n",
        "NBClassifier.fit(x_train,y_train)"
      ]
    },
    {
      "cell_type": "code",
      "execution_count": null,
      "metadata": {
        "id": "iyjFB0WDu9Q3"
      },
      "outputs": [],
      "source": [
        "y_pred=NBClassifier.predict(x_test)"
      ]
    },
    {
      "cell_type": "code",
      "execution_count": null,
      "metadata": {
        "colab": {
          "base_uri": "https://localhost:8080/"
        },
        "id": "-nUsYI4OvGVk",
        "outputId": "6d6de2de-709a-443b-fca7-0f1a129a2e8c"
      },
      "outputs": [
        {
          "output_type": "execute_result",
          "data": {
            "text/plain": [
              "array([1, 1, 1, 1, 1, 0, 1, 1, 0, 1, 1, 1, 1, 1, 1, 1, 1, 1, 1, 0, 0, 1,\n",
              "       1, 1, 1, 1, 1, 1, 0, 0, 1, 1, 1, 1, 1, 0, 1, 1, 1, 1, 1, 0, 1, 1,\n",
              "       1, 1, 1, 1, 1, 1, 1, 1, 1, 1, 1, 1, 1, 1, 1, 1, 0, 1, 1, 0, 1, 1,\n",
              "       1, 1, 1, 1, 1, 1, 1, 1, 1, 1, 0, 1, 1, 0, 1, 1, 1, 1, 1, 1, 1, 1,\n",
              "       1, 1, 1, 1, 1, 0, 1, 0, 1, 1, 1, 1, 1, 1, 1, 1, 1, 1, 1, 1, 1, 1,\n",
              "       1, 1, 1, 1, 0, 0, 1, 1, 1, 1, 1, 0, 1])"
            ]
          },
          "metadata": {},
          "execution_count": 49
        }
      ],
      "source": [
        "y_pred"
      ]
    },
    {
      "cell_type": "code",
      "execution_count": null,
      "metadata": {
        "colab": {
          "base_uri": "https://localhost:8080/"
        },
        "id": "c45r7qMdvIyK",
        "outputId": "39a9dbbe-8e51-4eb6-8988-e3877f975a01"
      },
      "outputs": [
        {
          "output_type": "stream",
          "name": "stdout",
          "text": [
            "The accuracy of Naive Bayes is:  83.73983739837398\n"
          ]
        }
      ],
      "source": [
        "print('The accuracy of Naive Bayes is: ',metrics.accuracy_score(y_pred,y_test)*100)"
      ]
    },
    {
      "cell_type": "code",
      "source": [
        "print('The recall using Naive Bayes is:',metrics.recall_score(y_pred,y_test)*100)"
      ],
      "metadata": {
        "colab": {
          "base_uri": "https://localhost:8080/"
        },
        "id": "KKoTljz0f7MX",
        "outputId": "247eced0-608c-4955-abf7-ef88d83733b5"
      },
      "execution_count": null,
      "outputs": [
        {
          "output_type": "stream",
          "name": "stdout",
          "text": [
            "The recall using Naive Bayes is: 83.01886792452831\n"
          ]
        }
      ]
    },
    {
      "cell_type": "code",
      "source": [
        "print('The precision using Niave Bayes is:',metrics.precision_score(y_pred,y_test)*100)"
      ],
      "metadata": {
        "colab": {
          "base_uri": "https://localhost:8080/"
        },
        "id": "LrrKid_RgC5U",
        "outputId": "f3bde4d2-d399-44be-9330-104afd7c44c8"
      },
      "execution_count": null,
      "outputs": [
        {
          "output_type": "stream",
          "name": "stdout",
          "text": [
            "The precision using Niave Bayes is: 97.77777777777777\n"
          ]
        }
      ]
    },
    {
      "cell_type": "code",
      "source": [
        "print('The f-score using Niave Bayes is:',metrics.f1_score(y_pred,y_test)*100)"
      ],
      "metadata": {
        "colab": {
          "base_uri": "https://localhost:8080/"
        },
        "id": "VReebl1ZgIo7",
        "outputId": "a60eb912-f651-40c9-898f-834f7dbe31ca"
      },
      "execution_count": null,
      "outputs": [
        {
          "output_type": "stream",
          "name": "stdout",
          "text": [
            "The f-score using Niave Bayes is: 89.79591836734696\n"
          ]
        }
      ]
    },
    {
      "cell_type": "code",
      "source": [
        "print('The confusion matrix of Niave Bayes is:',metrics.confusion_matrix(y_pred,y_test))\n"
      ],
      "metadata": {
        "colab": {
          "base_uri": "https://localhost:8080/"
        },
        "id": "8278Ul8bmMPY",
        "outputId": "8942c5cc-a789-458a-cf9f-e4ecb03e8a3a"
      },
      "execution_count": null,
      "outputs": [
        {
          "output_type": "stream",
          "name": "stdout",
          "text": [
            "The confusion matrix of Niave Bayes is: [[15  2]\n",
            " [18 88]]\n"
          ]
        }
      ]
    },
    {
      "cell_type": "markdown",
      "metadata": {
        "id": "dC8GhQQ8__zl"
      },
      "source": [
        "**Accuracy- Logistic Regression**"
      ]
    },
    {
      "cell_type": "code",
      "execution_count": null,
      "metadata": {
        "colab": {
          "base_uri": "https://localhost:8080/"
        },
        "id": "OzbHZjf1vVAt",
        "outputId": "85e6e083-05f7-449e-eada-6a4ca0cc28d6"
      },
      "outputs": [
        {
          "output_type": "execute_result",
          "data": {
            "text/plain": [
              "LogisticRegression(random_state=0)"
            ]
          },
          "metadata": {},
          "execution_count": 55
        }
      ],
      "source": [
        "from sklearn.linear_model import LogisticRegression\n",
        "classifier = LogisticRegression(random_state = 0)\n",
        "classifier.fit(x_train, y_train)"
      ]
    },
    {
      "cell_type": "code",
      "execution_count": null,
      "metadata": {
        "colab": {
          "base_uri": "https://localhost:8080/"
        },
        "id": "fQI4OJdwwJza",
        "outputId": "a6398df9-0eea-4fb2-9e19-a51127e8c848"
      },
      "outputs": [
        {
          "output_type": "execute_result",
          "data": {
            "text/plain": [
              "array([1, 1, 1, 1, 1, 0, 1, 1, 0, 1, 1, 1, 1, 1, 1, 1, 1, 1, 1, 0, 0, 1,\n",
              "       1, 1, 1, 1, 1, 1, 0, 0, 1, 1, 1, 1, 1, 0, 1, 1, 1, 1, 1, 0, 1, 1,\n",
              "       1, 1, 1, 1, 1, 1, 1, 1, 1, 1, 1, 1, 1, 1, 1, 1, 0, 1, 1, 0, 1, 1,\n",
              "       1, 1, 1, 1, 1, 1, 1, 1, 1, 1, 1, 1, 1, 0, 1, 1, 1, 1, 1, 1, 1, 1,\n",
              "       1, 1, 1, 1, 1, 0, 1, 0, 1, 1, 1, 1, 1, 1, 1, 1, 1, 1, 1, 1, 1, 1,\n",
              "       1, 1, 1, 1, 0, 0, 1, 1, 1, 1, 1, 0, 1])"
            ]
          },
          "metadata": {},
          "execution_count": 56
        }
      ],
      "source": [
        "y_pred=classifier.predict(x_test)\n",
        "y_pred"
      ]
    },
    {
      "cell_type": "code",
      "execution_count": null,
      "metadata": {
        "colab": {
          "base_uri": "https://localhost:8080/"
        },
        "id": "uGkGnT-LwbFj",
        "outputId": "ecdc82c9-485a-4dcd-c17f-c1bb4f4da6b0"
      },
      "outputs": [
        {
          "output_type": "stream",
          "name": "stdout",
          "text": [
            "The accuracy of Logistic Regression is:  82.92682926829268\n"
          ]
        }
      ],
      "source": [
        "print (\"The accuracy of Logistic Regression is: \", metrics.accuracy_score(y_test, y_pred)*100)"
      ]
    },
    {
      "cell_type": "code",
      "source": [
        "print('The recall using Logistic Regression is:',metrics.recall_score(y_pred,y_test)*100)"
      ],
      "metadata": {
        "colab": {
          "base_uri": "https://localhost:8080/"
        },
        "id": "BwiPcTqngjmk",
        "outputId": "a33fdb85-1287-469b-b66a-c418b2dedbba"
      },
      "execution_count": null,
      "outputs": [
        {
          "output_type": "stream",
          "name": "stdout",
          "text": [
            "The recall using Logistic Regression is: 82.2429906542056\n"
          ]
        }
      ]
    },
    {
      "cell_type": "code",
      "source": [
        "print('The precision using Logistic Regression is:',metrics.precision_score(y_pred,y_test)*100)"
      ],
      "metadata": {
        "colab": {
          "base_uri": "https://localhost:8080/"
        },
        "id": "k_RHG4a3gpb4",
        "outputId": "a6ee9948-a780-4375-9922-75d5a3aafe98"
      },
      "execution_count": null,
      "outputs": [
        {
          "output_type": "stream",
          "name": "stdout",
          "text": [
            "The precision using Logistic Regression is: 97.77777777777777\n"
          ]
        }
      ]
    },
    {
      "cell_type": "code",
      "source": [
        "print('The f-score using Logistic Regression is:',metrics.f1_score(y_pred,y_test)*100)"
      ],
      "metadata": {
        "colab": {
          "base_uri": "https://localhost:8080/"
        },
        "id": "mNTA_uc3gumO",
        "outputId": "03dde7c2-6535-4319-9811-443253896d6e"
      },
      "execution_count": null,
      "outputs": [
        {
          "output_type": "stream",
          "name": "stdout",
          "text": [
            "The f-score using Logistic Regression is: 89.34010152284264\n"
          ]
        }
      ]
    },
    {
      "cell_type": "code",
      "source": [
        "print('The confusion matrix of Logistic Regression is:',metrics.confusion_matrix(y_pred,y_test))\n"
      ],
      "metadata": {
        "colab": {
          "base_uri": "https://localhost:8080/"
        },
        "id": "4MdS9i9MmVHe",
        "outputId": "031f4145-75cd-4d0f-f839-a4a3f79c415e"
      },
      "execution_count": null,
      "outputs": [
        {
          "output_type": "stream",
          "name": "stdout",
          "text": [
            "The confusion matrix of Logistic Regression is: [[14  2]\n",
            " [19 88]]\n"
          ]
        }
      ]
    },
    {
      "cell_type": "markdown",
      "metadata": {
        "id": "5fOERqgnAFWq"
      },
      "source": [
        "**Accuracy-Random Forest**"
      ]
    },
    {
      "cell_type": "code",
      "execution_count": null,
      "metadata": {
        "id": "cxxd7qS-wzQ-"
      },
      "outputs": [],
      "source": [
        "from sklearn.ensemble import RandomForestClassifier\n",
        "clf = RandomForestClassifier(n_estimators = 100) \n",
        "clf.fit(x_train, y_train)\n",
        "y_pred = clf.predict(x_test)\n"
      ]
    },
    {
      "cell_type": "code",
      "execution_count": null,
      "metadata": {
        "colab": {
          "base_uri": "https://localhost:8080/"
        },
        "id": "4iNVc7RCyoAr",
        "outputId": "c484ce00-9490-4d12-b36f-ecf38f1c57e9"
      },
      "outputs": [
        {
          "output_type": "stream",
          "name": "stdout",
          "text": [
            "The accuracy of Random Forest is:  78.04878048780488\n"
          ]
        }
      ],
      "source": [
        "print(\"The accuracy of Random Forest is: \", metrics.accuracy_score(y_test, y_pred)*100)"
      ]
    },
    {
      "cell_type": "code",
      "source": [
        "print('The recall using Random Forest is:',metrics.recall_score(y_pred,y_test)*100)"
      ],
      "metadata": {
        "colab": {
          "base_uri": "https://localhost:8080/"
        },
        "id": "NUsIb6nlg_oE",
        "outputId": "6b7b409d-ee07-4173-817e-1924ef21313c"
      },
      "execution_count": null,
      "outputs": [
        {
          "output_type": "stream",
          "name": "stdout",
          "text": [
            "The recall using Random Forest is: 83.15789473684211\n"
          ]
        }
      ]
    },
    {
      "cell_type": "code",
      "source": [
        "print('The precision using Random Forest is:',metrics.precision_score(y_pred,y_test)*100)"
      ],
      "metadata": {
        "colab": {
          "base_uri": "https://localhost:8080/"
        },
        "id": "hFs2IEnxhE_c",
        "outputId": "04b7f6e8-031d-4c24-dec0-a57a3e5c308d"
      },
      "execution_count": null,
      "outputs": [
        {
          "output_type": "stream",
          "name": "stdout",
          "text": [
            "The precision using Random Forest is: 87.77777777777777\n"
          ]
        }
      ]
    },
    {
      "cell_type": "code",
      "source": [
        "print('The f-score using Random Forest is:',metrics.f1_score(y_pred,y_test)*100)"
      ],
      "metadata": {
        "colab": {
          "base_uri": "https://localhost:8080/"
        },
        "id": "kBdI8OZkhOUh",
        "outputId": "8f3d567f-f8a9-449f-969a-5b91cca98de6"
      },
      "execution_count": null,
      "outputs": [
        {
          "output_type": "stream",
          "name": "stdout",
          "text": [
            "The f-score using Random Forest is: 85.4054054054054\n"
          ]
        }
      ]
    },
    {
      "cell_type": "code",
      "source": [
        "print('The confusion matrix of Random Forest is:',metrics.confusion_matrix(y_pred,y_test))\n"
      ],
      "metadata": {
        "colab": {
          "base_uri": "https://localhost:8080/"
        },
        "id": "un7XXJegmaRL",
        "outputId": "d7aa2a35-ae11-4bf5-f490-760c6e3a873a"
      },
      "execution_count": null,
      "outputs": [
        {
          "output_type": "stream",
          "name": "stdout",
          "text": [
            "The confusion matrix of Random Forest is: [[17 11]\n",
            " [16 79]]\n"
          ]
        }
      ]
    },
    {
      "cell_type": "markdown",
      "metadata": {
        "id": "jmL0y8N7ALrA"
      },
      "source": [
        "**Testing the data**"
      ]
    },
    {
      "cell_type": "code",
      "execution_count": null,
      "metadata": {
        "colab": {
          "base_uri": "https://localhost:8080/",
          "height": 287
        },
        "id": "haVS9VfzzRng",
        "outputId": "50ac1cf5-d07c-4ad7-d1ac-bec423055037"
      },
      "outputs": [
        {
          "output_type": "execute_result",
          "data": {
            "text/plain": [
              "    Loan_ID Gender Married Dependents     Education Self_Employed  \\\n",
              "0  LP001002   Male      No          0      Graduate            No   \n",
              "1  LP001003   Male     Yes          1      Graduate            No   \n",
              "2  LP001005   Male     Yes          0      Graduate           Yes   \n",
              "3  LP001006   Male     Yes          0  Not Graduate            No   \n",
              "4  LP001008   Male      No          0      Graduate            No   \n",
              "\n",
              "   ApplicantIncome  CoapplicantIncome  LoanAmount  Loan_Amount_Term  \\\n",
              "0             5849                0.0         NaN             360.0   \n",
              "1             4583             1508.0       128.0             360.0   \n",
              "2             3000                0.0        66.0             360.0   \n",
              "3             2583             2358.0       120.0             360.0   \n",
              "4             6000                0.0       141.0             360.0   \n",
              "\n",
              "   Credit_History Property_Area Loan_Status  \n",
              "0             1.0         Urban           Y  \n",
              "1             1.0         Rural           N  \n",
              "2             1.0         Urban           Y  \n",
              "3             1.0         Urban           Y  \n",
              "4             1.0         Urban           Y  "
            ],
            "text/html": [
              "\n",
              "  <div id=\"df-3bdb7891-ba62-4316-a0fe-c2c8584a7dde\">\n",
              "    <div class=\"colab-df-container\">\n",
              "      <div>\n",
              "<style scoped>\n",
              "    .dataframe tbody tr th:only-of-type {\n",
              "        vertical-align: middle;\n",
              "    }\n",
              "\n",
              "    .dataframe tbody tr th {\n",
              "        vertical-align: top;\n",
              "    }\n",
              "\n",
              "    .dataframe thead th {\n",
              "        text-align: right;\n",
              "    }\n",
              "</style>\n",
              "<table border=\"1\" class=\"dataframe\">\n",
              "  <thead>\n",
              "    <tr style=\"text-align: right;\">\n",
              "      <th></th>\n",
              "      <th>Loan_ID</th>\n",
              "      <th>Gender</th>\n",
              "      <th>Married</th>\n",
              "      <th>Dependents</th>\n",
              "      <th>Education</th>\n",
              "      <th>Self_Employed</th>\n",
              "      <th>ApplicantIncome</th>\n",
              "      <th>CoapplicantIncome</th>\n",
              "      <th>LoanAmount</th>\n",
              "      <th>Loan_Amount_Term</th>\n",
              "      <th>Credit_History</th>\n",
              "      <th>Property_Area</th>\n",
              "      <th>Loan_Status</th>\n",
              "    </tr>\n",
              "  </thead>\n",
              "  <tbody>\n",
              "    <tr>\n",
              "      <th>0</th>\n",
              "      <td>LP001002</td>\n",
              "      <td>Male</td>\n",
              "      <td>No</td>\n",
              "      <td>0</td>\n",
              "      <td>Graduate</td>\n",
              "      <td>No</td>\n",
              "      <td>5849</td>\n",
              "      <td>0.0</td>\n",
              "      <td>NaN</td>\n",
              "      <td>360.0</td>\n",
              "      <td>1.0</td>\n",
              "      <td>Urban</td>\n",
              "      <td>Y</td>\n",
              "    </tr>\n",
              "    <tr>\n",
              "      <th>1</th>\n",
              "      <td>LP001003</td>\n",
              "      <td>Male</td>\n",
              "      <td>Yes</td>\n",
              "      <td>1</td>\n",
              "      <td>Graduate</td>\n",
              "      <td>No</td>\n",
              "      <td>4583</td>\n",
              "      <td>1508.0</td>\n",
              "      <td>128.0</td>\n",
              "      <td>360.0</td>\n",
              "      <td>1.0</td>\n",
              "      <td>Rural</td>\n",
              "      <td>N</td>\n",
              "    </tr>\n",
              "    <tr>\n",
              "      <th>2</th>\n",
              "      <td>LP001005</td>\n",
              "      <td>Male</td>\n",
              "      <td>Yes</td>\n",
              "      <td>0</td>\n",
              "      <td>Graduate</td>\n",
              "      <td>Yes</td>\n",
              "      <td>3000</td>\n",
              "      <td>0.0</td>\n",
              "      <td>66.0</td>\n",
              "      <td>360.0</td>\n",
              "      <td>1.0</td>\n",
              "      <td>Urban</td>\n",
              "      <td>Y</td>\n",
              "    </tr>\n",
              "    <tr>\n",
              "      <th>3</th>\n",
              "      <td>LP001006</td>\n",
              "      <td>Male</td>\n",
              "      <td>Yes</td>\n",
              "      <td>0</td>\n",
              "      <td>Not Graduate</td>\n",
              "      <td>No</td>\n",
              "      <td>2583</td>\n",
              "      <td>2358.0</td>\n",
              "      <td>120.0</td>\n",
              "      <td>360.0</td>\n",
              "      <td>1.0</td>\n",
              "      <td>Urban</td>\n",
              "      <td>Y</td>\n",
              "    </tr>\n",
              "    <tr>\n",
              "      <th>4</th>\n",
              "      <td>LP001008</td>\n",
              "      <td>Male</td>\n",
              "      <td>No</td>\n",
              "      <td>0</td>\n",
              "      <td>Graduate</td>\n",
              "      <td>No</td>\n",
              "      <td>6000</td>\n",
              "      <td>0.0</td>\n",
              "      <td>141.0</td>\n",
              "      <td>360.0</td>\n",
              "      <td>1.0</td>\n",
              "      <td>Urban</td>\n",
              "      <td>Y</td>\n",
              "    </tr>\n",
              "  </tbody>\n",
              "</table>\n",
              "</div>\n",
              "      <button class=\"colab-df-convert\" onclick=\"convertToInteractive('df-3bdb7891-ba62-4316-a0fe-c2c8584a7dde')\"\n",
              "              title=\"Convert this dataframe to an interactive table.\"\n",
              "              style=\"display:none;\">\n",
              "        \n",
              "  <svg xmlns=\"http://www.w3.org/2000/svg\" height=\"24px\"viewBox=\"0 0 24 24\"\n",
              "       width=\"24px\">\n",
              "    <path d=\"M0 0h24v24H0V0z\" fill=\"none\"/>\n",
              "    <path d=\"M18.56 5.44l.94 2.06.94-2.06 2.06-.94-2.06-.94-.94-2.06-.94 2.06-2.06.94zm-11 1L8.5 8.5l.94-2.06 2.06-.94-2.06-.94L8.5 2.5l-.94 2.06-2.06.94zm10 10l.94 2.06.94-2.06 2.06-.94-2.06-.94-.94-2.06-.94 2.06-2.06.94z\"/><path d=\"M17.41 7.96l-1.37-1.37c-.4-.4-.92-.59-1.43-.59-.52 0-1.04.2-1.43.59L10.3 9.45l-7.72 7.72c-.78.78-.78 2.05 0 2.83L4 21.41c.39.39.9.59 1.41.59.51 0 1.02-.2 1.41-.59l7.78-7.78 2.81-2.81c.8-.78.8-2.07 0-2.86zM5.41 20L4 18.59l7.72-7.72 1.47 1.35L5.41 20z\"/>\n",
              "  </svg>\n",
              "      </button>\n",
              "      \n",
              "  <style>\n",
              "    .colab-df-container {\n",
              "      display:flex;\n",
              "      flex-wrap:wrap;\n",
              "      gap: 12px;\n",
              "    }\n",
              "\n",
              "    .colab-df-convert {\n",
              "      background-color: #E8F0FE;\n",
              "      border: none;\n",
              "      border-radius: 50%;\n",
              "      cursor: pointer;\n",
              "      display: none;\n",
              "      fill: #1967D2;\n",
              "      height: 32px;\n",
              "      padding: 0 0 0 0;\n",
              "      width: 32px;\n",
              "    }\n",
              "\n",
              "    .colab-df-convert:hover {\n",
              "      background-color: #E2EBFA;\n",
              "      box-shadow: 0px 1px 2px rgba(60, 64, 67, 0.3), 0px 1px 3px 1px rgba(60, 64, 67, 0.15);\n",
              "      fill: #174EA6;\n",
              "    }\n",
              "\n",
              "    [theme=dark] .colab-df-convert {\n",
              "      background-color: #3B4455;\n",
              "      fill: #D2E3FC;\n",
              "    }\n",
              "\n",
              "    [theme=dark] .colab-df-convert:hover {\n",
              "      background-color: #434B5C;\n",
              "      box-shadow: 0px 1px 3px 1px rgba(0, 0, 0, 0.15);\n",
              "      filter: drop-shadow(0px 1px 2px rgba(0, 0, 0, 0.3));\n",
              "      fill: #FFFFFF;\n",
              "    }\n",
              "  </style>\n",
              "\n",
              "      <script>\n",
              "        const buttonEl =\n",
              "          document.querySelector('#df-3bdb7891-ba62-4316-a0fe-c2c8584a7dde button.colab-df-convert');\n",
              "        buttonEl.style.display =\n",
              "          google.colab.kernel.accessAllowed ? 'block' : 'none';\n",
              "\n",
              "        async function convertToInteractive(key) {\n",
              "          const element = document.querySelector('#df-3bdb7891-ba62-4316-a0fe-c2c8584a7dde');\n",
              "          const dataTable =\n",
              "            await google.colab.kernel.invokeFunction('convertToInteractive',\n",
              "                                                     [key], {});\n",
              "          if (!dataTable) return;\n",
              "\n",
              "          const docLinkHtml = 'Like what you see? Visit the ' +\n",
              "            '<a target=\"_blank\" href=https://colab.research.google.com/notebooks/data_table.ipynb>data table notebook</a>'\n",
              "            + ' to learn more about interactive tables.';\n",
              "          element.innerHTML = '';\n",
              "          dataTable['output_type'] = 'display_data';\n",
              "          await google.colab.output.renderOutput(dataTable, element);\n",
              "          const docLink = document.createElement('div');\n",
              "          docLink.innerHTML = docLinkHtml;\n",
              "          element.appendChild(docLink);\n",
              "        }\n",
              "      </script>\n",
              "    </div>\n",
              "  </div>\n",
              "  "
            ]
          },
          "metadata": {},
          "execution_count": 68
        }
      ],
      "source": [
        "testdata=pd.read_csv(\"Loan_Prediction.csv\")\n",
        "testdata.head()"
      ]
    },
    {
      "cell_type": "code",
      "execution_count": null,
      "metadata": {
        "colab": {
          "base_uri": "https://localhost:8080/"
        },
        "id": "u72QYm2z0F_I",
        "outputId": "188375c0-1765-432e-f11c-99a598cc5b64"
      },
      "outputs": [
        {
          "output_type": "stream",
          "name": "stdout",
          "text": [
            "<class 'pandas.core.frame.DataFrame'>\n",
            "RangeIndex: 614 entries, 0 to 613\n",
            "Data columns (total 13 columns):\n",
            " #   Column             Non-Null Count  Dtype  \n",
            "---  ------             --------------  -----  \n",
            " 0   Loan_ID            614 non-null    object \n",
            " 1   Gender             601 non-null    object \n",
            " 2   Married            611 non-null    object \n",
            " 3   Dependents         599 non-null    object \n",
            " 4   Education          614 non-null    object \n",
            " 5   Self_Employed      582 non-null    object \n",
            " 6   ApplicantIncome    614 non-null    int64  \n",
            " 7   CoapplicantIncome  614 non-null    float64\n",
            " 8   LoanAmount         592 non-null    float64\n",
            " 9   Loan_Amount_Term   600 non-null    float64\n",
            " 10  Credit_History     564 non-null    float64\n",
            " 11  Property_Area      614 non-null    object \n",
            " 12  Loan_Status        614 non-null    object \n",
            "dtypes: float64(4), int64(1), object(8)\n",
            "memory usage: 62.5+ KB\n"
          ]
        }
      ],
      "source": [
        "testdata.info()"
      ]
    },
    {
      "cell_type": "code",
      "execution_count": null,
      "metadata": {
        "colab": {
          "base_uri": "https://localhost:8080/"
        },
        "id": "hKFODoVw0IaO",
        "outputId": "751fdcbf-7e2b-46ed-9545-d12c6ffac23a"
      },
      "outputs": [
        {
          "output_type": "execute_result",
          "data": {
            "text/plain": [
              "Loan_ID               0\n",
              "Gender               13\n",
              "Married               3\n",
              "Dependents           15\n",
              "Education             0\n",
              "Self_Employed        32\n",
              "ApplicantIncome       0\n",
              "CoapplicantIncome     0\n",
              "LoanAmount           22\n",
              "Loan_Amount_Term     14\n",
              "Credit_History       50\n",
              "Property_Area         0\n",
              "Loan_Status           0\n",
              "dtype: int64"
            ]
          },
          "metadata": {},
          "execution_count": 70
        }
      ],
      "source": [
        "testdata.isnull().sum()"
      ]
    },
    {
      "cell_type": "code",
      "execution_count": null,
      "metadata": {
        "id": "76moaGi30NJi"
      },
      "outputs": [],
      "source": [
        "testdata['Gender'].fillna(testdata['Gender'].mode()[0],inplace=True)\n",
        "testdata['Married'].fillna(testdata['Married'].mode()[0],inplace=True)\n",
        "testdata['Dependents'].fillna(testdata['Dependents'].mode()[0],inplace=True)\n",
        "testdata['Self_Employed'].fillna(testdata['Self_Employed'].mode()[0],inplace=True)"
      ]
    },
    {
      "cell_type": "code",
      "execution_count": null,
      "metadata": {
        "id": "Bocy40nG0doa"
      },
      "outputs": [],
      "source": [
        "testdata.LoanAmount = testdata.LoanAmount.fillna(testdata.LoanAmount.mean())\n",
        "testdata['Loan_Amount_Term'].fillna(testdata['Loan_Amount_Term'].mode()[0],inplace=True)\n",
        "testdata['Credit_History'].fillna(testdata['Credit_History'].mode()[0],inplace=True)"
      ]
    },
    {
      "cell_type": "code",
      "execution_count": null,
      "metadata": {
        "colab": {
          "base_uri": "https://localhost:8080/"
        },
        "id": "R-BdmJc-112_",
        "outputId": "a002a7e3-3918-4259-ed7d-c739a4d49aad"
      },
      "outputs": [
        {
          "output_type": "execute_result",
          "data": {
            "text/plain": [
              "Loan_ID              0\n",
              "Gender               0\n",
              "Married              0\n",
              "Dependents           0\n",
              "Education            0\n",
              "Self_Employed        0\n",
              "ApplicantIncome      0\n",
              "CoapplicantIncome    0\n",
              "LoanAmount           0\n",
              "Loan_Amount_Term     0\n",
              "Credit_History       0\n",
              "Property_Area        0\n",
              "Loan_Status          0\n",
              "dtype: int64"
            ]
          },
          "metadata": {},
          "execution_count": 73
        }
      ],
      "source": [
        "testdata.isnull().sum()"
      ]
    },
    {
      "cell_type": "code",
      "execution_count": null,
      "metadata": {
        "colab": {
          "base_uri": "https://localhost:8080/",
          "height": 283
        },
        "id": "9FU_mgxk17Bq",
        "outputId": "09b01abe-bd4f-4bbd-8e57-03d1a9537941"
      },
      "outputs": [
        {
          "output_type": "execute_result",
          "data": {
            "text/plain": [
              "<matplotlib.axes._subplots.AxesSubplot at 0x7fc9c7275810>"
            ]
          },
          "metadata": {},
          "execution_count": 74
        },
        {
          "output_type": "display_data",
          "data": {
            "text/plain": [
              "<Figure size 432x288 with 1 Axes>"
            ],
            "image/png": "[encoded data removed]"
          },
          "metadata": {
            "needs_background": "light"
          }
        }
      ],
      "source": [
        "testdata.boxplot(column='LoanAmount')"
      ]
    },
    {
      "cell_type": "code",
      "execution_count": null,
      "metadata": {
        "colab": {
          "base_uri": "https://localhost:8080/",
          "height": 283
        },
        "id": "2Htx051E2Cgc",
        "outputId": "3487d109-8e9d-480e-a393-f755d0d31dc1"
      },
      "outputs": [
        {
          "output_type": "execute_result",
          "data": {
            "text/plain": [
              "<matplotlib.axes._subplots.AxesSubplot at 0x7fc9c7250490>"
            ]
          },
          "metadata": {},
          "execution_count": 75
        },
        {
          "output_type": "display_data",
          "data": {
            "text/plain": [
              "<Figure size 432x288 with 1 Axes>"
            ],
            "image/png": "[encoded data removed]"
          },
          "metadata": {
            "needs_background": "light"
          }
        }
      ],
      "source": [
        "testdata.boxplot(column='ApplicantIncome')"
      ]
    },
    {
      "cell_type": "code",
      "execution_count": null,
      "metadata": {
        "id": "GpE1BiLc2tG7"
      },
      "outputs": [],
      "source": [
        "testdata['TotalIncome']=testdata['ApplicantIncome'] + testdata['CoapplicantIncome']\n",
        "testdata['TotalIncome_log']=np.log(testdata['TotalIncome'])"
      ]
    },
    {
      "cell_type": "code",
      "execution_count": null,
      "metadata": {
        "colab": {
          "base_uri": "https://localhost:8080/",
          "height": 287
        },
        "id": "jQ8WioPk2JfF",
        "outputId": "374f0fb5-0f9e-44cf-97ca-21bb1ee5de82"
      },
      "outputs": [
        {
          "output_type": "execute_result",
          "data": {
            "text/plain": [
              "    Loan_ID Gender Married Dependents     Education Self_Employed  \\\n",
              "0  LP001002   Male      No          0      Graduate            No   \n",
              "1  LP001003   Male     Yes          1      Graduate            No   \n",
              "2  LP001005   Male     Yes          0      Graduate           Yes   \n",
              "3  LP001006   Male     Yes          0  Not Graduate            No   \n",
              "4  LP001008   Male      No          0      Graduate            No   \n",
              "\n",
              "   ApplicantIncome  CoapplicantIncome  LoanAmount  Loan_Amount_Term  \\\n",
              "0             5849                0.0  146.412162             360.0   \n",
              "1             4583             1508.0  128.000000             360.0   \n",
              "2             3000                0.0   66.000000             360.0   \n",
              "3             2583             2358.0  120.000000             360.0   \n",
              "4             6000                0.0  141.000000             360.0   \n",
              "\n",
              "   Credit_History Property_Area Loan_Status  TotalIncome  TotalIncome_log  \n",
              "0             1.0         Urban           Y       5849.0         8.674026  \n",
              "1             1.0         Rural           N       6091.0         8.714568  \n",
              "2             1.0         Urban           Y       3000.0         8.006368  \n",
              "3             1.0         Urban           Y       4941.0         8.505323  \n",
              "4             1.0         Urban           Y       6000.0         8.699515  "
            ],
            "text/html": [
              "\n",
              "  <div id=\"df-fd4e9c0a-efea-40b6-8901-17f3cac57056\">\n",
              "    <div class=\"colab-df-container\">\n",
              "      <div>\n",
              "<style scoped>\n",
              "    .dataframe tbody tr th:only-of-type {\n",
              "        vertical-align: middle;\n",
              "    }\n",
              "\n",
              "    .dataframe tbody tr th {\n",
              "        vertical-align: top;\n",
              "    }\n",
              "\n",
              "    .dataframe thead th {\n",
              "        text-align: right;\n",
              "    }\n",
              "</style>\n",
              "<table border=\"1\" class=\"dataframe\">\n",
              "  <thead>\n",
              "    <tr style=\"text-align: right;\">\n",
              "      <th></th>\n",
              "      <th>Loan_ID</th>\n",
              "      <th>Gender</th>\n",
              "      <th>Married</th>\n",
              "      <th>Dependents</th>\n",
              "      <th>Education</th>\n",
              "      <th>Self_Employed</th>\n",
              "      <th>ApplicantIncome</th>\n",
              "      <th>CoapplicantIncome</th>\n",
              "      <th>LoanAmount</th>\n",
              "      <th>Loan_Amount_Term</th>\n",
              "      <th>Credit_History</th>\n",
              "      <th>Property_Area</th>\n",
              "      <th>Loan_Status</th>\n",
              "      <th>TotalIncome</th>\n",
              "      <th>TotalIncome_log</th>\n",
              "    </tr>\n",
              "  </thead>\n",
              "  <tbody>\n",
              "    <tr>\n",
              "      <th>0</th>\n",
              "      <td>LP001002</td>\n",
              "      <td>Male</td>\n",
              "      <td>No</td>\n",
              "      <td>0</td>\n",
              "      <td>Graduate</td>\n",
              "      <td>No</td>\n",
              "      <td>5849</td>\n",
              "      <td>0.0</td>\n",
              "      <td>146.412162</td>\n",
              "      <td>360.0</td>\n",
              "      <td>1.0</td>\n",
              "      <td>Urban</td>\n",
              "      <td>Y</td>\n",
              "      <td>5849.0</td>\n",
              "      <td>8.674026</td>\n",
              "    </tr>\n",
              "    <tr>\n",
              "      <th>1</th>\n",
              "      <td>LP001003</td>\n",
              "      <td>Male</td>\n",
              "      <td>Yes</td>\n",
              "      <td>1</td>\n",
              "      <td>Graduate</td>\n",
              "      <td>No</td>\n",
              "      <td>4583</td>\n",
              "      <td>1508.0</td>\n",
              "      <td>128.000000</td>\n",
              "      <td>360.0</td>\n",
              "      <td>1.0</td>\n",
              "      <td>Rural</td>\n",
              "      <td>N</td>\n",
              "      <td>6091.0</td>\n",
              "      <td>8.714568</td>\n",
              "    </tr>\n",
              "    <tr>\n",
              "      <th>2</th>\n",
              "      <td>LP001005</td>\n",
              "      <td>Male</td>\n",
              "      <td>Yes</td>\n",
              "      <td>0</td>\n",
              "      <td>Graduate</td>\n",
              "      <td>Yes</td>\n",
              "      <td>3000</td>\n",
              "      <td>0.0</td>\n",
              "      <td>66.000000</td>\n",
              "      <td>360.0</td>\n",
              "      <td>1.0</td>\n",
              "      <td>Urban</td>\n",
              "      <td>Y</td>\n",
              "      <td>3000.0</td>\n",
              "      <td>8.006368</td>\n",
              "    </tr>\n",
              "    <tr>\n",
              "      <th>3</th>\n",
              "      <td>LP001006</td>\n",
              "      <td>Male</td>\n",
              "      <td>Yes</td>\n",
              "      <td>0</td>\n",
              "      <td>Not Graduate</td>\n",
              "      <td>No</td>\n",
              "      <td>2583</td>\n",
              "      <td>2358.0</td>\n",
              "      <td>120.000000</td>\n",
              "      <td>360.0</td>\n",
              "      <td>1.0</td>\n",
              "      <td>Urban</td>\n",
              "      <td>Y</td>\n",
              "      <td>4941.0</td>\n",
              "      <td>8.505323</td>\n",
              "    </tr>\n",
              "    <tr>\n",
              "      <th>4</th>\n",
              "      <td>LP001008</td>\n",
              "      <td>Male</td>\n",
              "      <td>No</td>\n",
              "      <td>0</td>\n",
              "      <td>Graduate</td>\n",
              "      <td>No</td>\n",
              "      <td>6000</td>\n",
              "      <td>0.0</td>\n",
              "      <td>141.000000</td>\n",
              "      <td>360.0</td>\n",
              "      <td>1.0</td>\n",
              "      <td>Urban</td>\n",
              "      <td>Y</td>\n",
              "      <td>6000.0</td>\n",
              "      <td>8.699515</td>\n",
              "    </tr>\n",
              "  </tbody>\n",
              "</table>\n",
              "</div>\n",
              "      <button class=\"colab-df-convert\" onclick=\"convertToInteractive('df-fd4e9c0a-efea-40b6-8901-17f3cac57056')\"\n",
              "              title=\"Convert this dataframe to an interactive table.\"\n",
              "              style=\"display:none;\">\n",
              "        \n",
              "  <svg xmlns=\"http://www.w3.org/2000/svg\" height=\"24px\"viewBox=\"0 0 24 24\"\n",
              "       width=\"24px\">\n",
              "    <path d=\"M0 0h24v24H0V0z\" fill=\"none\"/>\n",
              "    <path d=\"M18.56 5.44l.94 2.06.94-2.06 2.06-.94-2.06-.94-.94-2.06-.94 2.06-2.06.94zm-11 1L8.5 8.5l.94-2.06 2.06-.94-2.06-.94L8.5 2.5l-.94 2.06-2.06.94zm10 10l.94 2.06.94-2.06 2.06-.94-2.06-.94-.94-2.06-.94 2.06-2.06.94z\"/><path d=\"M17.41 7.96l-1.37-1.37c-.4-.4-.92-.59-1.43-.59-.52 0-1.04.2-1.43.59L10.3 9.45l-7.72 7.72c-.78.78-.78 2.05 0 2.83L4 21.41c.39.39.9.59 1.41.59.51 0 1.02-.2 1.41-.59l7.78-7.78 2.81-2.81c.8-.78.8-2.07 0-2.86zM5.41 20L4 18.59l7.72-7.72 1.47 1.35L5.41 20z\"/>\n",
              "  </svg>\n",
              "      </button>\n",
              "      \n",
              "  <style>\n",
              "    .colab-df-container {\n",
              "      display:flex;\n",
              "      flex-wrap:wrap;\n",
              "      gap: 12px;\n",
              "    }\n",
              "\n",
              "    .colab-df-convert {\n",
              "      background-color: #E8F0FE;\n",
              "      border: none;\n",
              "      border-radius: 50%;\n",
              "      cursor: pointer;\n",
              "      display: none;\n",
              "      fill: #1967D2;\n",
              "      height: 32px;\n",
              "      padding: 0 0 0 0;\n",
              "      width: 32px;\n",
              "    }\n",
              "\n",
              "    .colab-df-convert:hover {\n",
              "      background-color: #E2EBFA;\n",
              "      box-shadow: 0px 1px 2px rgba(60, 64, 67, 0.3), 0px 1px 3px 1px rgba(60, 64, 67, 0.15);\n",
              "      fill: #174EA6;\n",
              "    }\n",
              "\n",
              "    [theme=dark] .colab-df-convert {\n",
              "      background-color: #3B4455;\n",
              "      fill: #D2E3FC;\n",
              "    }\n",
              "\n",
              "    [theme=dark] .colab-df-convert:hover {\n",
              "      background-color: #434B5C;\n",
              "      box-shadow: 0px 1px 3px 1px rgba(0, 0, 0, 0.15);\n",
              "      filter: drop-shadow(0px 1px 2px rgba(0, 0, 0, 0.3));\n",
              "      fill: #FFFFFF;\n",
              "    }\n",
              "  </style>\n",
              "\n",
              "      <script>\n",
              "        const buttonEl =\n",
              "          document.querySelector('#df-fd4e9c0a-efea-40b6-8901-17f3cac57056 button.colab-df-convert');\n",
              "        buttonEl.style.display =\n",
              "          google.colab.kernel.accessAllowed ? 'block' : 'none';\n",
              "\n",
              "        async function convertToInteractive(key) {\n",
              "          const element = document.querySelector('#df-fd4e9c0a-efea-40b6-8901-17f3cac57056');\n",
              "          const dataTable =\n",
              "            await google.colab.kernel.invokeFunction('convertToInteractive',\n",
              "                                                     [key], {});\n",
              "          if (!dataTable) return;\n",
              "\n",
              "          const docLinkHtml = 'Like what you see? Visit the ' +\n",
              "            '<a target=\"_blank\" href=https://colab.research.google.com/notebooks/data_table.ipynb>data table notebook</a>'\n",
              "            + ' to learn more about interactive tables.';\n",
              "          element.innerHTML = '';\n",
              "          dataTable['output_type'] = 'display_data';\n",
              "          await google.colab.output.renderOutput(dataTable, element);\n",
              "          const docLink = document.createElement('div');\n",
              "          docLink.innerHTML = docLinkHtml;\n",
              "          element.appendChild(docLink);\n",
              "        }\n",
              "      </script>\n",
              "    </div>\n",
              "  </div>\n",
              "  "
            ]
          },
          "metadata": {},
          "execution_count": 77
        }
      ],
      "source": [
        "testdata.head()"
      ]
    },
    {
      "cell_type": "code",
      "execution_count": null,
      "metadata": {
        "id": "AFVvLOrI3Bew"
      },
      "outputs": [],
      "source": [
        "test=testdata.iloc[:,np.r_[1:5,9:11,13:15]].values"
      ]
    },
    {
      "cell_type": "code",
      "execution_count": null,
      "metadata": {
        "id": "kO2q-QOC3TX2"
      },
      "outputs": [],
      "source": [
        "for i in range(0,5):\n",
        "    test[:,i]=labelencoder_x.fit_transform(test[:,i])"
      ]
    },
    {
      "cell_type": "code",
      "execution_count": null,
      "metadata": {
        "id": "_20NX0FU2aMv"
      },
      "outputs": [],
      "source": [
        "test[:,7]=labelencoder_x.fit_transform(test[:,7])"
      ]
    },
    {
      "cell_type": "code",
      "execution_count": null,
      "metadata": {
        "colab": {
          "base_uri": "https://localhost:8080/"
        },
        "id": "TWcn73Tc3xnc",
        "outputId": "cafad08b-1d9f-4e63-9b34-b608f7466607"
      },
      "outputs": [
        {
          "output_type": "execute_result",
          "data": {
            "text/plain": [
              "array([[1, 0, 0, ..., 1.0, 5849.0, 320],\n",
              "       [1, 1, 1, ..., 1.0, 6091.0, 333],\n",
              "       [1, 1, 0, ..., 1.0, 3000.0, 42],\n",
              "       ...,\n",
              "       [1, 1, 1, ..., 1.0, 8312.0, 436],\n",
              "       [1, 1, 2, ..., 1.0, 7583.0, 416],\n",
              "       [0, 0, 0, ..., 0.0, 4583.0, 185]], dtype=object)"
            ]
          },
          "metadata": {},
          "execution_count": 81
        }
      ],
      "source": [
        "test"
      ]
    },
    {
      "cell_type": "code",
      "execution_count": null,
      "metadata": {
        "id": "aglrG7_63zgo"
      },
      "outputs": [],
      "source": [
        "test=ss.fit_transform(test)"
      ]
    },
    {
      "cell_type": "code",
      "execution_count": null,
      "metadata": {
        "id": "OWdK0ZjW35H6"
      },
      "outputs": [],
      "source": [
        "NBClassifier.fit(x_train,y_train)\n",
        "y_pred=NBClassifier.predict(test)"
      ]
    },
    {
      "cell_type": "code",
      "execution_count": null,
      "metadata": {
        "colab": {
          "base_uri": "https://localhost:8080/"
        },
        "id": "i55hY-on38ja",
        "outputId": "faea52e5-2606-4b26-f3a0-c72172198529"
      },
      "outputs": [
        {
          "output_type": "execute_result",
          "data": {
            "text/plain": [
              "array([1, 1, 1, 1, 1, 1, 1, 0, 1, 1, 1, 1, 1, 1, 1, 1, 1, 0, 1, 1, 0, 1,\n",
              "       0, 0, 1, 1, 1, 1, 1, 1, 1, 1, 1, 1, 1, 1, 0, 1, 1, 1, 1, 1, 1, 1,\n",
              "       1, 1, 1, 1, 0, 1, 1, 1, 1, 1, 0, 1, 1, 1, 1, 1, 1, 1, 0, 0, 0, 1,\n",
              "       0, 1, 1, 0, 1, 1, 1, 0, 1, 1, 1, 1, 0, 1, 1, 1, 1, 1, 1, 1, 1, 1,\n",
              "       1, 1, 1, 1, 1, 1, 1, 1, 1, 1, 1, 1, 1, 1, 1, 1, 1, 1, 1, 1, 0, 1,\n",
              "       1, 1, 0, 1, 1, 1, 1, 1, 1, 1, 1, 1, 0, 1, 1, 1, 1, 1, 0, 1, 1, 1,\n",
              "       1, 1, 1, 1, 1, 1, 0, 1, 1, 1, 1, 1, 1, 1, 1, 1, 1, 1, 0, 1, 1, 1,\n",
              "       1, 0, 1, 1, 1, 1, 1, 1, 0, 1, 1, 1, 1, 1, 0, 1, 1, 0, 1, 1, 1, 1,\n",
              "       1, 0, 1, 0, 0, 1, 1, 0, 1, 0, 0, 1, 1, 1, 1, 1, 1, 1, 1, 1, 1, 1,\n",
              "       1, 1, 1, 0, 1, 1, 1, 1, 1, 1, 1, 1, 1, 0, 1, 1, 1, 1, 1, 1, 0, 1,\n",
              "       0, 1, 1, 1, 1, 1, 1, 1, 1, 1, 1, 1, 1, 1, 1, 1, 1, 1, 1, 1, 1, 1,\n",
              "       1, 1, 1, 1, 1, 1, 1, 1, 0, 1, 1, 1, 0, 1, 0, 1, 1, 1, 1, 1, 1, 1,\n",
              "       1, 1, 1, 0, 1, 1, 1, 1, 1, 1, 1, 1, 1, 1, 1, 1, 0, 1, 1, 1, 1, 1,\n",
              "       1, 1, 1, 1, 1, 0, 1, 0, 1, 1, 1, 1, 1, 1, 0, 1, 1, 1, 1, 1, 1, 0,\n",
              "       1, 1, 1, 1, 1, 1, 1, 1, 1, 1, 1, 1, 1, 1, 1, 1, 1, 0, 0, 1, 1, 1,\n",
              "       1, 1, 1, 0, 1, 1, 1, 1, 0, 1, 1, 1, 1, 1, 1, 1, 0, 1, 1, 1, 1, 1,\n",
              "       1, 0, 1, 1, 1, 1, 0, 1, 1, 1, 1, 1, 1, 1, 1, 0, 1, 1, 1, 1, 1, 0,\n",
              "       1, 1, 1, 1, 1, 1, 1, 1, 1, 1, 1, 1, 1, 0, 1, 1, 1, 1, 1, 1, 1, 1,\n",
              "       0, 1, 1, 0, 0, 1, 1, 1, 1, 1, 1, 1, 0, 0, 1, 1, 0, 1, 0, 1, 1, 1,\n",
              "       1, 1, 1, 0, 1, 0, 1, 1, 1, 1, 1, 1, 1, 0, 1, 1, 1, 1, 1, 1, 0, 1,\n",
              "       1, 1, 1, 0, 1, 1, 1, 1, 0, 1, 0, 1, 0, 0, 1, 1, 1, 1, 1, 1, 1, 1,\n",
              "       1, 1, 0, 1, 0, 1, 1, 1, 1, 0, 1, 1, 1, 1, 1, 0, 1, 1, 1, 1, 1, 1,\n",
              "       1, 1, 0, 1, 1, 1, 1, 1, 1, 1, 0, 1, 1, 1, 1, 0, 1, 1, 1, 1, 1, 1,\n",
              "       1, 1, 1, 1, 1, 1, 1, 1, 1, 1, 1, 0, 1, 1, 1, 1, 1, 1, 1, 1, 1, 0,\n",
              "       1, 1, 1, 1, 0, 1, 1, 1, 1, 1, 1, 1, 1, 0, 1, 1, 1, 1, 1, 1, 0, 1,\n",
              "       0, 1, 1, 0, 0, 1, 1, 1, 1, 1, 1, 1, 1, 1, 0, 1, 1, 0, 1, 0, 1, 0,\n",
              "       1, 1, 1, 1, 0, 1, 1, 1, 1, 0, 1, 1, 0, 1, 1, 1, 1, 0, 1, 1, 1, 1,\n",
              "       1, 1, 1, 0, 1, 1, 0, 1, 1, 1, 1, 1, 1, 1, 1, 1, 1, 1, 1, 0])"
            ]
          },
          "metadata": {},
          "execution_count": 84
        }
      ],
      "source": [
        "y_pred"
      ]
    },
    {
      "cell_type": "markdown",
      "metadata": {
        "id": "t6kR344IAU72"
      },
      "source": [
        "# **THANK YOU**"
      ]
    }
  ],
  "metadata": {
    "colab": {
      "collapsed_sections": [],
      "name": "Loan_Prediction.ipynb",
      "provenance": [],
      "include_colab_link": true
    },
    "kernelspec": {
      "display_name": "Python 3",
      "name": "python3"
    },
    "language_info": {
      "name": "python"
    }
  },
  "nbformat": 4,
  "nbformat_minor": 0
}